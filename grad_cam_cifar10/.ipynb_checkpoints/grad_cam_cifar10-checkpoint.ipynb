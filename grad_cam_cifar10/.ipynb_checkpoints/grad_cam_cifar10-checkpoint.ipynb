{
 "cells": [
  {
   "cell_type": "code",
   "execution_count": 8,
   "metadata": {},
   "outputs": [],
   "source": [
    "import tensorflow as tf\n",
    "import numpy as np \n",
    "import cv2\n",
    "import matplotlib.pyplot as plt"
   ]
  },
  {
   "cell_type": "markdown",
   "metadata": {},
   "source": [
    "## Dataset"
   ]
  },
  {
   "cell_type": "code",
   "execution_count": 9,
   "metadata": {},
   "outputs": [],
   "source": [
    "\n",
    "(x_train, y_train), (x_test, y_test) = tf.keras.datasets.cifar10.load_data()\n",
    "\n",
    "# train set / data \n",
    "x_train = x_train.astype('float32') / 255\n",
    "# train set / target \n",
    "y_train = tf.keras.utils.to_categorical(y_train , num_classes=10)\n",
    "\n",
    "# validation set / data \n",
    "x_test = x_test.astype('float32') / 255\n",
    "# validation set / target \n",
    "y_test = tf.keras.utils.to_categorical(y_test, num_classes=10)"
   ]
  },
  {
   "cell_type": "code",
   "execution_count": 10,
   "metadata": {},
   "outputs": [
    {
     "name": "stdout",
     "output_type": "stream",
     "text": [
      "(99, 32, 32, 3) (99, 10)\n",
      "(14, 32, 32, 3) (14, 10)\n"
     ]
    }
   ],
   "source": [
    "#reduce dataset size\n",
    "x_train = x_train[1:100]\n",
    "y_train = y_train[1:100]\n",
    "\n",
    "x_test = x_test[1:15]\n",
    "y_test = y_test[1:15]\n",
    "print(x_train.shape, y_train.shape)\n",
    "print(x_test.shape, y_test.shape)  \n"
   ]
  },
  {
   "cell_type": "code",
   "execution_count": 11,
   "metadata": {},
   "outputs": [
    {
     "name": "stdout",
     "output_type": "stream",
     "text": [
      "<class 'numpy.ndarray'>\n"
     ]
    }
   ],
   "source": [
    "print(type(x_train[0]))"
   ]
  },
  {
   "cell_type": "markdown",
   "metadata": {},
   "source": [
    "## Model"
   ]
  },
  {
   "cell_type": "code",
   "execution_count": 12,
   "metadata": {},
   "outputs": [],
   "source": [
    "input = tf.keras.Input(shape=(32,32,3))\n",
    "model = tf.keras.applications.EfficientNetB0(weights='imagenet',\n",
    "                                             include_top = False, \n",
    "                                             input_tensor = input)\n",
    "\n",
    "# model = tf.keras.applications.DenseNet121(weights='imagenet',\n",
    "#                                          include_top = False,\n",
    "#                                          input_tensor = input)\n",
    "\n",
    "# model = tf.keras.applications.ResNet18(weights='imagenet',\n",
    "#                                          include_top = False,\n",
    "#                                          input_tensor = input)\n",
    "\n",
    "# Now that we apply global max pooling.\n",
    "gap = tf.keras.layers.GlobalMaxPooling2D()(model.output)\n",
    "\n",
    "# Finally, we add a classification layer.\n",
    "output = tf.keras.layers.Dense(10, activation='softmax')(gap)\n",
    "\n",
    "# bind all\n",
    "func_model = tf.keras.Model(model.input, output)"
   ]
  },
  {
   "cell_type": "markdown",
   "metadata": {},
   "source": [
    "## Compile and Run"
   ]
  },
  {
   "cell_type": "code",
   "execution_count": 13,
   "metadata": {},
   "outputs": [
    {
     "name": "stdout",
     "output_type": "stream",
     "text": [
      "Epoch 1/2\n",
      "1/1 - 11s - loss: 2.7714 - categorical_accuracy: 0.1212\n",
      "Epoch 2/2\n",
      "1/1 - 1s - loss: 1.8345 - categorical_accuracy: 0.3636\n"
     ]
    },
    {
     "data": {
      "text/plain": [
       "<tensorflow.python.keras.callbacks.History at 0x154f00d00>"
      ]
     },
     "execution_count": 13,
     "metadata": {},
     "output_type": "execute_result"
    }
   ],
   "source": [
    "func_model.compile(\n",
    "          loss      = tf.keras.losses.CategoricalCrossentropy(),\n",
    "          metrics   = tf.keras.metrics.CategoricalAccuracy(),\n",
    "          optimizer = tf.keras.optimizers.Adam())\n",
    "# fit \n",
    "func_model.fit(x_train, y_train, batch_size=128, epochs=2, verbose = 2)"
   ]
  },
  {
   "cell_type": "markdown",
   "metadata": {},
   "source": [
    "## Prediction"
   ]
  },
  {
   "cell_type": "code",
   "execution_count": 14,
   "metadata": {},
   "outputs": [
    {
     "name": "stdout",
     "output_type": "stream",
     "text": [
      "(1, 32, 32, 3)\n"
     ]
    }
   ],
   "source": [
    "image = cv2.imread('dog.jpeg')\n",
    "image = cv2.resize(image, (32, 32))\n",
    "image = image.astype('float32') / 255\n",
    "image = np.expand_dims(image, axis=0)\n",
    "\n",
    "preds = func_model.predict(image) \n",
    "i = np.argmax(preds[0])\n",
    "print(image.shape)"
   ]
  },
  {
   "cell_type": "markdown",
   "metadata": {},
   "source": [
    "## Grad CAM"
   ]
  },
  {
   "cell_type": "code",
   "execution_count": 15,
   "metadata": {},
   "outputs": [
    {
     "name": "stdout",
     "output_type": "stream",
     "text": [
      "input_2\n",
      "rescaling_1\n",
      "normalization_1\n",
      "stem_conv_pad\n",
      "stem_conv\n",
      "stem_bn\n",
      "stem_activation\n",
      "block1a_dwconv\n",
      "block1a_bn\n",
      "block1a_activation\n",
      "block1a_se_squeeze\n",
      "block1a_se_reshape\n",
      "block1a_se_reduce\n",
      "block1a_se_expand\n",
      "block1a_se_excite\n",
      "block1a_project_conv\n",
      "block1a_project_bn\n",
      "block2a_expand_conv\n",
      "block2a_expand_bn\n",
      "block2a_expand_activation\n",
      "block2a_dwconv_pad\n",
      "block2a_dwconv\n",
      "block2a_bn\n",
      "block2a_activation\n",
      "block2a_se_squeeze\n",
      "block2a_se_reshape\n",
      "block2a_se_reduce\n",
      "block2a_se_expand\n",
      "block2a_se_excite\n",
      "block2a_project_conv\n",
      "block2a_project_bn\n",
      "block2b_expand_conv\n",
      "block2b_expand_bn\n",
      "block2b_expand_activation\n",
      "block2b_dwconv\n",
      "block2b_bn\n",
      "block2b_activation\n",
      "block2b_se_squeeze\n",
      "block2b_se_reshape\n",
      "block2b_se_reduce\n",
      "block2b_se_expand\n",
      "block2b_se_excite\n",
      "block2b_project_conv\n",
      "block2b_project_bn\n",
      "block2b_drop\n",
      "block2b_add\n",
      "block3a_expand_conv\n",
      "block3a_expand_bn\n",
      "block3a_expand_activation\n",
      "block3a_dwconv_pad\n",
      "block3a_dwconv\n",
      "block3a_bn\n",
      "block3a_activation\n",
      "block3a_se_squeeze\n",
      "block3a_se_reshape\n",
      "block3a_se_reduce\n",
      "block3a_se_expand\n",
      "block3a_se_excite\n",
      "block3a_project_conv\n",
      "block3a_project_bn\n",
      "block3b_expand_conv\n",
      "block3b_expand_bn\n",
      "block3b_expand_activation\n",
      "block3b_dwconv\n",
      "block3b_bn\n",
      "block3b_activation\n",
      "block3b_se_squeeze\n",
      "block3b_se_reshape\n",
      "block3b_se_reduce\n",
      "block3b_se_expand\n",
      "block3b_se_excite\n",
      "block3b_project_conv\n",
      "block3b_project_bn\n",
      "block3b_drop\n",
      "block3b_add\n",
      "block4a_expand_conv\n",
      "block4a_expand_bn\n",
      "block4a_expand_activation\n",
      "block4a_dwconv_pad\n",
      "block4a_dwconv\n",
      "block4a_bn\n",
      "block4a_activation\n",
      "block4a_se_squeeze\n",
      "block4a_se_reshape\n",
      "block4a_se_reduce\n",
      "block4a_se_expand\n",
      "block4a_se_excite\n",
      "block4a_project_conv\n",
      "block4a_project_bn\n",
      "block4b_expand_conv\n",
      "block4b_expand_bn\n",
      "block4b_expand_activation\n",
      "block4b_dwconv\n",
      "block4b_bn\n",
      "block4b_activation\n",
      "block4b_se_squeeze\n",
      "block4b_se_reshape\n",
      "block4b_se_reduce\n",
      "block4b_se_expand\n",
      "block4b_se_excite\n",
      "block4b_project_conv\n",
      "block4b_project_bn\n",
      "block4b_drop\n",
      "block4b_add\n",
      "block4c_expand_conv\n",
      "block4c_expand_bn\n",
      "block4c_expand_activation\n",
      "block4c_dwconv\n",
      "block4c_bn\n",
      "block4c_activation\n",
      "block4c_se_squeeze\n",
      "block4c_se_reshape\n",
      "block4c_se_reduce\n",
      "block4c_se_expand\n",
      "block4c_se_excite\n",
      "block4c_project_conv\n",
      "block4c_project_bn\n",
      "block4c_drop\n",
      "block4c_add\n",
      "block5a_expand_conv\n",
      "block5a_expand_bn\n",
      "block5a_expand_activation\n",
      "block5a_dwconv\n",
      "block5a_bn\n",
      "block5a_activation\n",
      "block5a_se_squeeze\n",
      "block5a_se_reshape\n",
      "block5a_se_reduce\n",
      "block5a_se_expand\n",
      "block5a_se_excite\n",
      "block5a_project_conv\n",
      "block5a_project_bn\n",
      "block5b_expand_conv\n",
      "block5b_expand_bn\n",
      "block5b_expand_activation\n",
      "block5b_dwconv\n",
      "block5b_bn\n",
      "block5b_activation\n",
      "block5b_se_squeeze\n",
      "block5b_se_reshape\n",
      "block5b_se_reduce\n",
      "block5b_se_expand\n",
      "block5b_se_excite\n",
      "block5b_project_conv\n",
      "block5b_project_bn\n",
      "block5b_drop\n",
      "block5b_add\n",
      "block5c_expand_conv\n",
      "block5c_expand_bn\n",
      "block5c_expand_activation\n",
      "block5c_dwconv\n",
      "block5c_bn\n",
      "block5c_activation\n",
      "block5c_se_squeeze\n",
      "block5c_se_reshape\n",
      "block5c_se_reduce\n",
      "block5c_se_expand\n",
      "block5c_se_excite\n",
      "block5c_project_conv\n",
      "block5c_project_bn\n",
      "block5c_drop\n",
      "block5c_add\n",
      "block6a_expand_conv\n",
      "block6a_expand_bn\n",
      "block6a_expand_activation\n",
      "block6a_dwconv_pad\n",
      "block6a_dwconv\n",
      "block6a_bn\n",
      "block6a_activation\n",
      "block6a_se_squeeze\n",
      "block6a_se_reshape\n",
      "block6a_se_reduce\n",
      "block6a_se_expand\n",
      "block6a_se_excite\n",
      "block6a_project_conv\n",
      "block6a_project_bn\n",
      "block6b_expand_conv\n",
      "block6b_expand_bn\n",
      "block6b_expand_activation\n",
      "block6b_dwconv\n",
      "block6b_bn\n",
      "block6b_activation\n",
      "block6b_se_squeeze\n",
      "block6b_se_reshape\n",
      "block6b_se_reduce\n",
      "block6b_se_expand\n",
      "block6b_se_excite\n",
      "block6b_project_conv\n",
      "block6b_project_bn\n",
      "block6b_drop\n",
      "block6b_add\n",
      "block6c_expand_conv\n",
      "block6c_expand_bn\n",
      "block6c_expand_activation\n",
      "block6c_dwconv\n",
      "block6c_bn\n",
      "block6c_activation\n",
      "block6c_se_squeeze\n",
      "block6c_se_reshape\n",
      "block6c_se_reduce\n",
      "block6c_se_expand\n",
      "block6c_se_excite\n",
      "block6c_project_conv\n",
      "block6c_project_bn\n",
      "block6c_drop\n",
      "block6c_add\n",
      "block6d_expand_conv\n",
      "block6d_expand_bn\n",
      "block6d_expand_activation\n",
      "block6d_dwconv\n",
      "block6d_bn\n",
      "block6d_activation\n",
      "block6d_se_squeeze\n",
      "block6d_se_reshape\n",
      "block6d_se_reduce\n",
      "block6d_se_expand\n",
      "block6d_se_excite\n",
      "block6d_project_conv\n",
      "block6d_project_bn\n",
      "block6d_drop\n",
      "block6d_add\n",
      "block7a_expand_conv\n",
      "block7a_expand_bn\n",
      "block7a_expand_activation\n",
      "block7a_dwconv\n",
      "block7a_bn\n",
      "block7a_activation\n",
      "block7a_se_squeeze\n",
      "block7a_se_reshape\n",
      "block7a_se_reduce\n",
      "block7a_se_expand\n",
      "block7a_se_excite\n",
      "block7a_project_conv\n",
      "block7a_project_bn\n",
      "top_conv\n",
      "top_bn\n",
      "top_activation\n",
      "global_max_pooling2d_1\n",
      "dense_1\n"
     ]
    }
   ],
   "source": [
    "for idx in range(len(func_model.layers)):\n",
    "  print(func_model.get_layer(index = idx).name)"
   ]
  },
  {
   "cell_type": "code",
   "execution_count": 18,
   "metadata": {},
   "outputs": [],
   "source": [
    "from tensorflow.keras.models import Model\n",
    "import tensorflow as tf\n",
    "import numpy as np\n",
    "import cv2\n",
    "\n",
    "class GradCAM:\n",
    "    def __init__(self, model, classIdx, layerName=None):\n",
    "        # store the model, the class index used to measure the class\n",
    "        # activation map, and the layer to be used when visualizing\n",
    "        # the class activation map\n",
    "        self.model = model\n",
    "        self.classIdx = classIdx\n",
    "        self.layerName = layerName\n",
    "        # if the layer name is None, attempt to automatically find\n",
    "        # the target output layer\n",
    "        if self.layerName is None:\n",
    "            self.layerName = self.find_target_layer()\n",
    "\n",
    "    def find_target_layer(self):\n",
    "        # attempt to find the final convolutional layer in the network\n",
    "        # by looping over the layers of the network in reverse order\n",
    "        for layer in reversed(self.model.layers):\n",
    "            # check to see if the layer has a 4D output\n",
    "            if len(layer.output_shape) == 4:\n",
    "                return layer.name\n",
    "        # otherwise, we could not find a 4D layer so the GradCAM\n",
    "        # algorithm cannot be applied\n",
    "        raise ValueError(\"Could not find 4D layer. Cannot apply GradCAM.\")\n",
    "\n",
    "\n",
    "    def compute_heatmap(self, image, eps=1e-8):\n",
    "        # construct our gradient model by supplying (1) the inputs\n",
    "        # to our pre-trained model, (2) the output of the (presumably)\n",
    "        # final 4D layer in the network, and (3) the output of the\n",
    "        # softmax activations from the model\n",
    "        gradModel = Model(\n",
    "            inputs=[self.model.inputs],\n",
    "            outputs=[self.model.get_layer(self.layerName).output, self.model.output])\n",
    "\n",
    "        # record operations for automatic differentiation\n",
    "        with tf.GradientTape() as tape:\n",
    "            # cast the image tensor to a float-32 data type, pass the\n",
    "            # image through the gradient model, and grab the loss\n",
    "            # associated with the specific class index\n",
    "            inputs = tf.cast(image, tf.float32)\n",
    "            (convOutputs, predictions) = gradModel(inputs)\n",
    "            \n",
    "            loss = predictions[:, tf.argmax(predictions[0])]\n",
    "    \n",
    "        # use automatic differentiation to compute the gradients\n",
    "        grads = tape.gradient(loss, convOutputs)\n",
    "\n",
    "        # compute the guided gradients\n",
    "        castConvOutputs = tf.cast(convOutputs > 0, \"float32\")\n",
    "        castGrads = tf.cast(grads > 0, \"float32\")\n",
    "        guidedGrads = castConvOutputs * castGrads * grads\n",
    "        # the convolution and guided gradients have a batch dimension\n",
    "        # (which we don't need) so let's grab the volume itself and\n",
    "        # discard the batch\n",
    "        convOutputs = convOutputs[0]\n",
    "        guidedGrads = guidedGrads[0]\n",
    "\n",
    "        # compute the average of the gradient values, and using them\n",
    "        # as weights, compute the ponderation of the filters with\n",
    "        # respect to the weights\n",
    "        weights = tf.reduce_mean(guidedGrads, axis=(0, 1))\n",
    "        cam = tf.reduce_sum(tf.multiply(weights, convOutputs), axis=-1)\n",
    "\n",
    "        # grab the spatial dimensions of the input image and resize\n",
    "        # the output class activation map to match the input image\n",
    "        # dimensions\n",
    "        (w, h) = (image.shape[2], image.shape[1])\n",
    "        heatmap = cv2.resize(cam.numpy(), (w, h))\n",
    "        # normalize the heatmap such that all values lie in the range\n",
    "        # [0, 1], scale the resulting values to the range [0, 255],\n",
    "        # and then convert to an unsigned 8-bit integer\n",
    "        numer = heatmap - np.min(heatmap)\n",
    "        denom = (heatmap.max() - heatmap.min()) + eps\n",
    "        heatmap = numer / denom\n",
    "        heatmap = (heatmap * 255).astype(\"uint8\")\n",
    "        # return the resulting heatmap to the calling function\n",
    "        return heatmap\n",
    "\n",
    "    def overlay_heatmap(self, heatmap, image, alpha=0.5,\n",
    "                        colormap=cv2.COLORMAP_VIRIDIS):\n",
    "        # apply the supplied color map to the heatmap and then\n",
    "        # overlay the heatmap on the input image\n",
    "        heatmap = cv2.applyColorMap(heatmap, colormap)\n",
    "        output = cv2.addWeighted(image, alpha, heatmap, 1 - alpha, 0)\n",
    "        # return a 2-tuple of the color mapped heatmap and the output,\n",
    "        # overlaid image\n",
    "        return (heatmap, output)"
   ]
  },
  {
   "cell_type": "code",
   "execution_count": 21,
   "metadata": {},
   "outputs": [
    {
     "name": "stdout",
     "output_type": "stream",
     "text": [
      "(32, 32) (32, 32, 3)\n"
     ]
    }
   ],
   "source": [
    "icam = GradCAM(func_model, i, 'block7a_project_conv')  # efnet'block5c_project_conv'\n",
    "heatmap = icam.compute_heatmap(image)\n",
    "heatmap = cv2.resize(heatmap, (32, 32))\n",
    "\n",
    "image = cv2.imread('dog.jpeg')\n",
    "image = cv2.resize(image, (32, 32))\n",
    "\n",
    "print(heatmap.shape, image.shape)\n",
    "\n",
    "(heatmap, output) = icam.overlay_heatmap(heatmap, image, alpha=0.5)"
   ]
  },
  {
   "cell_type": "markdown",
   "metadata": {},
   "source": [
    "## Visualization"
   ]
  },
  {
   "cell_type": "code",
   "execution_count": 22,
   "metadata": {},
   "outputs": [
    {
     "data": {
      "text/plain": [
       "<matplotlib.image.AxesImage at 0x179e12b50>"
      ]
     },
     "execution_count": 22,
     "metadata": {},
     "output_type": "execute_result"
    },
    {
     "data": {
      "image/png": "[encoded data removed]",
      "text/plain": [
       "<Figure size 432x288 with 3 Axes>"
      ]
     },
     "metadata": {
      "needs_background": "light"
     },
     "output_type": "display_data"
    }
   ],
   "source": [
    "fig, ax = plt.subplots(1, 3)\n",
    "\n",
    "ax[0].imshow(heatmap)\n",
    "ax[1].imshow(image)\n",
    "ax[2].imshow(output)"
   ]
  },
  {
   "cell_type": "code",
   "execution_count": null,
   "metadata": {},
   "outputs": [],
   "source": []
  },
  {
   "cell_type": "code",
   "execution_count": null,
   "metadata": {},
   "outputs": [],
   "source": []
  },
  {
   "cell_type": "code",
   "execution_count": null,
   "metadata": {},
   "outputs": [],
   "source": []
  }
 ],
 "metadata": {
  "kernelspec": {
   "display_name": "Python 3",
   "language": "python",
   "name": "python3"
  },
  "language_info": {
   "codemirror_mode": {
    "name": "ipython",
    "version": 3
   },
   "file_extension": ".py",
   "mimetype": "text/x-python",
   "name": "python",
   "nbconvert_exporter": "python",
   "pygments_lexer": "ipython3",
   "version": "3.9.1"
  }
 },
 "nbformat": 4,
 "nbformat_minor": 4
}
