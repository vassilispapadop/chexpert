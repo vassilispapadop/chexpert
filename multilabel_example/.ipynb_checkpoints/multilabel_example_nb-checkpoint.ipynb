{
 "cells": [
  {
   "cell_type": "code",
   "execution_count": 1,
   "metadata": {},
   "outputs": [],
   "source": [
    "# Import all necessary\n",
    "import numpy as np\n",
    "import matplotlib.pyplot as plt\n",
    "import seaborn as sns\n",
    "import os\n",
    "import cv2 as cv\n",
    "import re\n",
    "import requests\n",
    "\n",
    "from sklearn.metrics import confusion_matrix,  multilabel_confusion_matrix\n",
    "from sklearn.preprocessing import MultiLabelBinarizer\n",
    "from sklearn.model_selection import train_test_split\n",
    "\n",
    "from keras.models import Sequential\n",
    "from keras.layers import Conv2D, Dense, Flatten, MaxPooling2D\n",
    "from keras.layers import BatchNormalization, Activation, Dropout\n",
    "from keras.preprocessing.image import ImageDataGenerator\n",
    "from keras.callbacks import ModelCheckpoint\n"
   ]
  },
  {
   "cell_type": "code",
   "execution_count": 3,
   "metadata": {},
   "outputs": [],
   "source": [
    "# Lists to store images data and labels\n",
    "X = []\n",
    "Y = []\n",
    "\n",
    "# Input shape for ANN and also to resize images \n",
    "input_shape = (96, 96, 3)\n",
    "\n",
    "# Merge train and test data into one dataset\n",
    "# Loop through train and test subsets\n",
    "\n",
    "path_to_subset = f'dataset/'\n",
    "\n",
    "# Loop through all classes in subset\n",
    "for folder in os.listdir(path_to_subset):\n",
    "\n",
    "    # Loop through all images in each class\n",
    "    for image in os.listdir(os.path.join(path_to_subset, folder)):\n",
    "        # Defining path to image\n",
    "        path_to_image = os.path.join(path_to_subset, folder, image)\n",
    "        # Reading image using cv2\n",
    "        image = cv.imread(path_to_image)\n",
    "        # Resizing image\n",
    "        image = cv.resize(image, (input_shape[1], input_shape[0]))\n",
    "        # Extracting labels from 'path_to_image' using regex\n",
    "        label = re.findall(r'\\w+\\_\\w+', path_to_image)[0].split('_')\n",
    "\n",
    "        # Appending data and labels to X and Y lists\n",
    "        X.append(image)\n",
    "        Y.append(label)\n",
    "\n",
    "# Convert X to numpy array and scale values between 0 and 1\n",
    "X = np.array(X) / 255.0\n",
    "Y = np.array(Y)\n",
    "\n",
    "# Binarize labels\n",
    "mlb = MultiLabelBinarizer()\n",
    "Y = mlb.fit_transform(Y)"
   ]
  },
  {
   "cell_type": "code",
   "execution_count": 4,
   "metadata": {},
   "outputs": [
    {
     "name": "stdout",
     "output_type": "stream",
     "text": [
      "['black' 'blue' 'brown' 'dress' 'green' 'pants' 'red' 'shirt' 'shoes'\n",
      " 'shorts' 'white']\n",
      "[0 0 0 0 1 0 0 1 0 0 0]\n"
     ]
    }
   ],
   "source": [
    "# mlb classes and example of binarized label\n",
    "print(mlb.classes_)\n",
    "print(Y[0])"
   ]
  },
  {
   "cell_type": "code",
   "execution_count": 5,
   "metadata": {},
   "outputs": [
    {
     "name": "stdout",
     "output_type": "stream",
     "text": [
      "(10246, 96, 96, 3) (1139, 96, 96, 3) (10246, 11) (1139, 11)\n",
      "(8196, 96, 96, 3) (2050, 96, 96, 3) (8196, 11) (2050, 11)\n"
     ]
    }
   ],
   "source": [
    "# test_x and test_y will be used for final predictions\n",
    "x, test_x, y, test_y = train_test_split(X, Y, test_size = 0.1, stratify = Y, shuffle = True, random_state = 1)\n",
    "# train_x, val_x, train_y, val_y will be used to train model and validate results during training\n",
    "train_x, val_x, train_y, val_y = train_test_split(x, y, test_size = 0.2, stratify = y, shuffle = True, random_state = 1)\n",
    "\n",
    "print(x.shape, test_x.shape, y.shape, test_y.shape)\n",
    "print(train_x.shape, val_x.shape, train_y.shape, val_y.shape)\n",
    "\n",
    "# I'll use ImageDataGenerator to apply random transformations to images\n",
    "datagen = ImageDataGenerator(rotation_range = 45,\n",
    "                            width_shift_range = 0.1,\n",
    "                            height_shift_range = 0.1,\n",
    "                            zoom_range = 0.2,\n",
    "                            horizontal_flip = True,\n",
    "                            validation_split = 0.2)"
   ]
  },
  {
   "cell_type": "code",
   "execution_count": 6,
   "metadata": {},
   "outputs": [
    {
     "name": "stdout",
     "output_type": "stream",
     "text": [
      "Model: \"sequential\"\n",
      "_________________________________________________________________\n",
      "Layer (type)                 Output Shape              Param #   \n",
      "=================================================================\n",
      "conv2d (Conv2D)              (None, 96, 96, 32)        896       \n",
      "_________________________________________________________________\n",
      "batch_normalization (BatchNo (None, 96, 96, 32)        128       \n",
      "_________________________________________________________________\n",
      "max_pooling2d (MaxPooling2D) (None, 32, 32, 32)        0         \n",
      "_________________________________________________________________\n",
      "dropout (Dropout)            (None, 32, 32, 32)        0         \n",
      "_________________________________________________________________\n",
      "conv2d_1 (Conv2D)            (None, 32, 32, 64)        18496     \n",
      "_________________________________________________________________\n",
      "batch_normalization_1 (Batch (None, 32, 32, 64)        256       \n",
      "_________________________________________________________________\n",
      "conv2d_2 (Conv2D)            (None, 32, 32, 64)        36928     \n",
      "_________________________________________________________________\n",
      "batch_normalization_2 (Batch (None, 32, 32, 64)        256       \n",
      "_________________________________________________________________\n",
      "max_pooling2d_1 (MaxPooling2 (None, 16, 16, 64)        0         \n",
      "_________________________________________________________________\n",
      "dropout_1 (Dropout)          (None, 16, 16, 64)        0         \n",
      "_________________________________________________________________\n",
      "conv2d_3 (Conv2D)            (None, 16, 16, 128)       73856     \n",
      "_________________________________________________________________\n",
      "batch_normalization_3 (Batch (None, 16, 16, 128)       512       \n",
      "_________________________________________________________________\n",
      "conv2d_4 (Conv2D)            (None, 16, 16, 128)       65664     \n",
      "_________________________________________________________________\n",
      "batch_normalization_4 (Batch (None, 16, 16, 128)       512       \n",
      "_________________________________________________________________\n",
      "max_pooling2d_2 (MaxPooling2 (None, 8, 8, 128)         0         \n",
      "_________________________________________________________________\n",
      "dropout_2 (Dropout)          (None, 8, 8, 128)         0         \n",
      "_________________________________________________________________\n",
      "flatten (Flatten)            (None, 8192)              0         \n",
      "_________________________________________________________________\n",
      "dense (Dense)                (None, 1024)              8389632   \n",
      "_________________________________________________________________\n",
      "batch_normalization_5 (Batch (None, 1024)              4096      \n",
      "_________________________________________________________________\n",
      "dropout_3 (Dropout)          (None, 1024)              0         \n",
      "_________________________________________________________________\n",
      "dense_1 (Dense)              (None, 11)                11275     \n",
      "=================================================================\n",
      "Total params: 8,602,507\n",
      "Trainable params: 8,599,627\n",
      "Non-trainable params: 2,880\n",
      "_________________________________________________________________\n"
     ]
    }
   ],
   "source": [
    "# Creating model architecture\n",
    "model = Sequential()\n",
    "\n",
    "model.add(Conv2D(32, 3, padding = 'same', input_shape = input_shape, kernel_initializer = 'he_normal', activation = 'relu'))\n",
    "model.add(BatchNormalization())\n",
    "model.add(MaxPooling2D(3))\n",
    "model.add(Dropout(0.25))\n",
    "\n",
    "model.add(Conv2D(64, 3, padding = 'same', kernel_initializer = 'he_normal', activation = 'relu'))\n",
    "model.add(BatchNormalization())\n",
    "model.add(Conv2D(64, 3, padding = 'same', kernel_initializer = 'he_normal', activation = 'relu'))\n",
    "model.add(BatchNormalization())\n",
    "model.add(MaxPooling2D())\n",
    "model.add(Dropout(0.25))\n",
    "\n",
    "model.add(Conv2D(128, 3, padding = 'same', kernel_initializer = 'he_normal', activation = 'relu'))\n",
    "model.add(BatchNormalization())\n",
    "model.add(Conv2D(128, 2, padding = 'same', kernel_initializer = 'he_normal', activation = 'relu'))\n",
    "model.add(BatchNormalization())\n",
    "model.add(MaxPooling2D())\n",
    "model.add(Dropout(0.25))\n",
    "\n",
    "model.add(Flatten())\n",
    "model.add(Dense(1024, activation = 'relu', kernel_initializer = 'he_normal'))\n",
    "model.add(BatchNormalization())\n",
    "model.add(Dropout(0.5))\n",
    "\n",
    "# model.summary()\n",
    "\n",
    "# use a *softmax* activation for single-label classification\n",
    "# and *sigmoid* activation for multi-label classification\n",
    "model.add(Dense(len(mlb.classes_), activation = 'sigmoid'))\n",
    "\n",
    "model.compile(optimizer = 'adam', loss = 'binary_crossentropy', metrics = ['accuracy'])\n",
    "model.summary()\n"
   ]
  },
  {
   "cell_type": "code",
   "execution_count": 7,
   "metadata": {},
   "outputs": [
    {
     "name": "stderr",
     "output_type": "stream",
     "text": [
      "/usr/local/lib/python3.9/site-packages/keras/engine/training.py:1915: UserWarning: `Model.fit_generator` is deprecated and will be removed in a future version. Please use `Model.fit`, which supports generators.\n",
      "  warnings.warn('`Model.fit_generator` is deprecated and '\n"
     ]
    },
    {
     "name": "stdout",
     "output_type": "stream",
     "text": [
      "129/129 [==============================] - 313s 2s/step - loss: 0.5706 - accuracy: 0.4480 - val_loss: 0.7173 - val_accuracy: 0.1249\n",
      "\n",
      "Epoch 00001: val_loss improved from inf to 0.71727, saving model to best_model.hdf5\n"
     ]
    }
   ],
   "source": [
    "# Checkpoint to save best model\n",
    "checkpoint = ModelCheckpoint('best_model.hdf5', save_best_only = True, monitor = 'val_loss', verbose = 1)\n",
    "history = model.fit_generator(datagen.flow(train_x, train_y, batch_size = 64),\n",
    "                             validation_data = (val_x, val_y), epochs = 1, verbose = 1, callbacks = [checkpoint])"
   ]
  },
  {
   "cell_type": "code",
   "execution_count": null,
   "metadata": {},
   "outputs": [],
   "source": [
    "# Plot training results\n",
    "H = history.history\n",
    "fig = plt.figure(figsize = (20, 7))\n",
    "plt.subplot(121)\n",
    "plt.plot(H['accuracy'], label = 'acc')\n",
    "plt.plot(H['val_accuracy'], label = 'val_acc')\n",
    "plt.grid()\n",
    "plt.legend()\n",
    "\n",
    "plt.subplot(122)\n",
    "plt.plot(H['loss'], label = 'loss')\n",
    "plt.plot(H['val_loss'], label = 'val_loss')\n",
    "plt.grid()\n",
    "plt.legend()"
   ]
  },
  {
   "cell_type": "code",
   "execution_count": null,
   "metadata": {},
   "outputs": [],
   "source": [
    "# Loading best weights\n",
    "model.load_weights('best_model.hdf5')\n",
    "# Save model for later usage\n",
    "model.save('model.hdf5')\n",
    "\n",
    "# Predicting test images\n",
    "preds = model.predict(test_x)\n",
    "preds = np.where(preds < 0.5, 0, 1)\n",
    "\n",
    "# Creating multilabel confusion matrix\n",
    "confusion = multilabel_confusion_matrix(test_y, preds)\n",
    "\n",
    "# Plot confusion matrix \n",
    "fig = plt.figure(figsize = (14, 8))\n",
    "for i, (label, matrix) in enumerate(zip(mlb.classes_, confusion)):\n",
    "    plt.subplot(f'23{i+1}')\n",
    "    labels = [f'not_{label}', label]\n",
    "    sns.heatmap(matrix, annot = True, square = True, fmt = 'd', cbar = False, cmap = 'Blues', \n",
    "                xticklabels = labels, yticklabels = labels, linecolor = 'black', linewidth = 1)\n",
    "    plt.title(labels[0])\n",
    "\n",
    "plt.tight_layout()\n",
    "plt.show()"
   ]
  },
  {
   "cell_type": "markdown",
   "metadata": {},
   "source": [
    "## Predicting Random Images"
   ]
  },
  {
   "cell_type": "code",
   "execution_count": null,
   "metadata": {},
   "outputs": [],
   "source": [
    "# URLs to images\n",
    "urls = [\n",
    "    'http://picture-cdn.wheretoget.it/e07ql5-l-610x610-dress-little+black+dress-skater+dress-nastygal-deep+vneck-short-formal-short+formal+dress-prom-short+prom+dress-black-lbd-short+black+dress-prom+dress-black+dress-blackdress-short+.jpg',\n",
    "    'https://img.simplydresses.com/_img/SDPRODUCTS/2103981/500/navy-dress-JU-TI-T0468-a.jpg',\n",
    "    'https://d2euz5hho4dp59.cloudfront.net/images/detailed/40/main_jean_419.jpg',\n",
    "    'https://sc02.alicdn.com/kf/HTB1QbZ_dzgy_uJjSZJnq6zuOXXaq/Wholesale-scratch-pants-damaged-denim-women-s.jpg_350x350.jpg',\n",
    "    'https://i.ebayimg.com/00/s/NjAwWDYwMA==/z/pakAAOSwVtta6SN8/$_1.JPG?set_id=880000500F',\n",
    "    'https://encrypted-tbn0.gstatic.com/images?q=tbn%3AANd9GcSFA1Q-O44dQWt1lvsnOQyoMcQ3myaxY-GscMHgmPtmyWT14ZJU',\n",
    "    'https://encrypted-tbn0.gstatic.com/images?q=tbn%3AANd9GcTJYyBOAy35RM7m0JzNGHo_-VTSf6bPMh9hACbhhqxsdoMXHQvD',\n",
    "    'https://cdn.shopify.com/s/files/1/1359/6121/products/7481209_LF0A0919_1024x1024.jpg?v=1511982241',     \n",
    "]\n",
    "\n",
    "fig = plt.figure(figsize = (15, 15))\n",
    "\n",
    "for i, url in enumerate(urls):\n",
    "    plt.subplot(f'33{i+1}')\n",
    "    \n",
    "    # Sending request to the URL\n",
    "    r = requests.get(url, stream = True).raw\n",
    "    \n",
    "    # Reading image, convert it to np array and decode\n",
    "    image = np.asarray(bytearray(r.read()), dtype=\"uint8\")\n",
    "    image = cv.imdecode(image, cv.IMREAD_COLOR)\n",
    "    # Resize, scale and reshape image before making predictions\n",
    "    resized = cv.resize(image, (input_shape[1], input_shape[0]))\n",
    "    resized = (resized / 255.0).reshape(-1, input_shape[1], input_shape[0], input_shape[2])\n",
    "    \n",
    "    # Predict results\n",
    "    preds = model.predict(resized)\n",
    "    preds = zip(list(mlb.classes_), list(preds[0]))\n",
    "    preds = sorted(list(preds), key = lambda z: z[1], reverse = True)[:2]\n",
    "    \n",
    "    # Showing image\n",
    "    plt.imshow(image[:, :, ::-1])\n",
    "    plt.title(f'{preds[0][0]}: {round(preds[0][1] * 100, 2)}% \\n {preds[1][0]}: {round(preds[1][1] * 100, 2)}%')    \n",
    "        \n",
    "plt.tight_layout()  "
   ]
  }
 ],
 "metadata": {
  "kernelspec": {
   "display_name": "Python 3",
   "language": "python",
   "name": "python3"
  },
  "language_info": {
   "codemirror_mode": {
    "name": "ipython",
    "version": 3
   },
   "file_extension": ".py",
   "mimetype": "text/x-python",
   "name": "python",
   "nbconvert_exporter": "python",
   "pygments_lexer": "ipython3",
   "version": "3.9.1"
  }
 },
 "nbformat": 4,
 "nbformat_minor": 4
}
