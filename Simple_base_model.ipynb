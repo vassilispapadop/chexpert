{
 "cells": [
  {
   "cell_type": "code",
   "execution_count": 1,
   "metadata": {},
   "outputs": [],
   "source": [
    "### import libraries\n",
    "import keras\n",
    "from keras_preprocessing.image import ImageDataGenerator\n",
    "from keras.layers import Dense, Activation, Flatten, Dropout, BatchNormalization\n",
    "from keras.layers import Conv2D, MaxPooling2D\n",
    "from keras import regularizers, optimizers\n",
    "from keras.models import Sequential\n",
    "\n",
    "from keras.applications.densenet import DenseNet121\n",
    "from keras.preprocessing import image\n",
    "from keras.models import Model\n",
    "from keras.layers import Dense, GlobalAveragePooling2D\n",
    "from keras.models import Sequential\n",
    "from keras.layers import Conv2D, Flatten\n",
    "from keras import backend as K\n",
    "from keras.models import load_model\n",
    "from keras.utils.vis_utils import plot_model\n",
    "\n",
    "import pandas as pd\n",
    "import numpy as np\n",
    "from pathlib import Path\n",
    "\n",
    "import matplotlib\n",
    "# matplotlib.use(\"Agg\") # set the matplotlib backend so figures can be saved in the background\n",
    " \n",
    "from sklearn.metrics import classification_report\n",
    "import matplotlib.pyplot as plt\n",
    "\n",
    "import datetime\n",
    "import tensorflow as tf\n",
    "\n",
    "import json"
   ]
  },
  {
   "cell_type": "code",
   "execution_count": 2,
   "metadata": {},
   "outputs": [],
   "source": [
    "def read_config(p):\n",
    "    '''read from configuration file'''\n",
    "    with open(p) as f:\n",
    "        d = json.load(f)\n",
    "    \n",
    "    #fix trailing slash\n",
    "    if(d['df'][-1] != '/'):\n",
    "        d['df'] += '/'\n",
    "    \n",
    "    print(\"path: \", d['df'])\n",
    "    print(\"train labels: \", d['train_labels'])\n",
    "    print(\"test_labels: \", d['test_labels'])\n",
    "    print(\"all_labels: \", d['all_labels']),\n",
    "    print(\"processing labels: \", d['processing_labels'])\n",
    "    print(\"batch size: \", d['batch_size'])\n",
    "    return d['df'], d['train_labels'], d['test_labels'], d['all_labels'], d['processing_labels'], d['batch_size']"
   ]
  },
  {
   "cell_type": "code",
   "execution_count": 17,
   "metadata": {},
   "outputs": [
    {
     "name": "stdout",
     "output_type": "stream",
     "text": [
      "path:  CheXpert-v1.0-small/\n",
      "train labels:  train.csv\n",
      "test_labels:  valid.csv\n",
      "all_labels:  ['Path', 'Sex', 'Age', 'Frontal/Lateral', 'AP/PA', 'Enlarged Cardiomediastinum', 'Cardiomegaly', 'Lung Opacity', 'Edema', 'Pneumonia', 'Lung Lesion', 'No Finding', 'Consolidation', 'Atelectasis', 'Pneumothorax', 'Pleural Effusion', 'Pleural Other', 'Fracture', 'Support Devices']\n",
      "processing labels:  {'x_col': 'Path', 'y_col': ['Pneumonia', 'Pneumothorax']}\n",
      "batch size:  32\n",
      "dropping columns....\n",
      " ['Pleural Effusion', 'No Finding', 'Enlarged Cardiomediastinum', 'AP/PA', 'Atelectasis', 'Consolidation', 'Pleural Other', 'Lung Opacity', 'Sex', 'Lung Lesion', 'Age', 'Support Devices', 'Fracture', 'Frontal/Lateral', 'Edema', 'Cardiomegaly']\n",
      "(25950, 3)\n"
     ]
    }
   ],
   "source": [
    "[df_path, train_labels, test_labels, all_labels, processing_labels, batch_size] = read_config('config.json')\n",
    "x_col = processing_labels['x_col']\n",
    "y_col = processing_labels['y_col']\n",
    "number_of_classes = len(y_col)\n",
    "\n",
    "# import train data info from valid.csv\n",
    "dtrain=pd.read_csv(df_path + train_labels, nrows=150000)\n",
    "dtrain = dtrain.fillna(0)\n",
    "\n",
    "# import valid data info from valid.csv\n",
    "dtest = pd.read_csv(df_path + test_labels)\n",
    "dtest = dtest.fillna(0)\n",
    "\n",
    "#add dnew to dtrain to re-split since valid data in data set is very small\n",
    "# dtrain = dtrain.append(dtest)\n",
    "\n",
    "#pre-process data: remove Lateral images\n",
    "dtrain = dtrain[~dtrain[dtrain.columns[3]].str.contains(\"Lateral\")]\n",
    "\n",
    "#pre-process data: drop selected features - only images as inputs\n",
    "#drop all features that are not included in processing_features\n",
    "to_drop = list(set(all_labels) - set(y_col))\n",
    "to_drop.remove(x_col)\n",
    "print('dropping columns....\\n', to_drop)\n",
    "dtrain = dtrain.drop(to_drop, axis=1)\n",
    "\n",
    "#uncertain examples make them positive\n",
    "dtrain = dtrain.replace(-1,1)\n",
    "\n",
    "dtrain.drop(dtrain.loc[(dtrain['Pneumonia'] == 0) & (dtrain['Pneumothorax'] == 0)].index, inplace=True)\n",
    "print(dtrain.shape)"
   ]
  },
  {
   "cell_type": "code",
   "execution_count": 18,
   "metadata": {},
   "outputs": [
    {
     "name": "stdout",
     "output_type": "stream",
     "text": [
      "0\n"
     ]
    },
    {
     "data": {
      "text/html": [
       "<div>\n",
       "<style scoped>\n",
       "    .dataframe tbody tr th:only-of-type {\n",
       "        vertical-align: middle;\n",
       "    }\n",
       "\n",
       "    .dataframe tbody tr th {\n",
       "        vertical-align: top;\n",
       "    }\n",
       "\n",
       "    .dataframe thead th {\n",
       "        text-align: right;\n",
       "    }\n",
       "</style>\n",
       "<table border=\"1\" class=\"dataframe\">\n",
       "  <thead>\n",
       "    <tr style=\"text-align: right;\">\n",
       "      <th></th>\n",
       "      <th>Path</th>\n",
       "      <th>Pneumonia</th>\n",
       "      <th>Pneumothorax</th>\n",
       "    </tr>\n",
       "  </thead>\n",
       "  <tbody>\n",
       "    <tr>\n",
       "      <th>9</th>\n",
       "      <td>CheXpert-v1.0-small/train/patient00005/study2/...</td>\n",
       "      <td>0.0</td>\n",
       "      <td>1.0</td>\n",
       "    </tr>\n",
       "    <tr>\n",
       "      <th>10</th>\n",
       "      <td>CheXpert-v1.0-small/train/patient00005/study2/...</td>\n",
       "      <td>0.0</td>\n",
       "      <td>1.0</td>\n",
       "    </tr>\n",
       "    <tr>\n",
       "      <th>12</th>\n",
       "      <td>CheXpert-v1.0-small/train/patient00007/study1/...</td>\n",
       "      <td>0.0</td>\n",
       "      <td>1.0</td>\n",
       "    </tr>\n",
       "    <tr>\n",
       "      <th>22</th>\n",
       "      <td>CheXpert-v1.0-small/train/patient00011/study1/...</td>\n",
       "      <td>0.0</td>\n",
       "      <td>1.0</td>\n",
       "    </tr>\n",
       "    <tr>\n",
       "      <th>23</th>\n",
       "      <td>CheXpert-v1.0-small/train/patient00011/study5/...</td>\n",
       "      <td>0.0</td>\n",
       "      <td>1.0</td>\n",
       "    </tr>\n",
       "  </tbody>\n",
       "</table>\n",
       "</div>"
      ],
      "text/plain": [
       "                                                 Path  Pneumonia  Pneumothorax\n",
       "9   CheXpert-v1.0-small/train/patient00005/study2/...        0.0           1.0\n",
       "10  CheXpert-v1.0-small/train/patient00005/study2/...        0.0           1.0\n",
       "12  CheXpert-v1.0-small/train/patient00007/study1/...        0.0           1.0\n",
       "22  CheXpert-v1.0-small/train/patient00011/study1/...        0.0           1.0\n",
       "23  CheXpert-v1.0-small/train/patient00011/study5/...        0.0           1.0"
      ]
     },
     "execution_count": 18,
     "metadata": {},
     "output_type": "execute_result"
    }
   ],
   "source": [
    "count = 0\n",
    "for index, row in dtrain.iterrows():\n",
    "#     print(row['Pneumonia'], row['Lung Lesion'])\n",
    "    if row['Pneumonia'] == 0.0 and row['Pneumothorax'] == 0.0:\n",
    "        count += 1\n",
    "print(count)\n",
    "\n",
    "dtrain.head()\n"
   ]
  },
  {
   "cell_type": "code",
   "execution_count": 19,
   "metadata": {
    "scrolled": true
   },
   "outputs": [
    {
     "data": {
      "image/png": "[encoded data removed]",
      "text/plain": [
       "<Figure size 432x288 with 1 Axes>"
      ]
     },
     "metadata": {
      "needs_background": "light"
     },
     "output_type": "display_data"
    },
    {
     "data": {
      "text/plain": [
       "<Figure size 432x288 with 0 Axes>"
      ]
     },
     "metadata": {},
     "output_type": "display_data"
    }
   ],
   "source": [
    "%matplotlib inline\n",
    "features_size=[]\n",
    "features_data =[]\n",
    "features_name=[]\n",
    "for feature in list(dtrain.columns[1:number_of_classes+1]):\n",
    "    data_feature = dtrain.loc[dtrain[feature] == 1]\n",
    "    features_size.append(data_feature.shape[0])\n",
    "    features_data.append(data_feature)\n",
    "    features_name.append(feature)\n",
    "\n",
    "objects = list(dtrain.columns[1:number_of_classes+1])\n",
    "y_pos = np.arange(len(objects))\n",
    "performance = np.array(features_size)/dtrain.shape[0]*100\n",
    "# print(features_data)\n",
    "plt.barh(y_pos, performance, align='center', alpha=0.5)\n",
    "plt.yticks(y_pos, objects)\n",
    "plt.xlabel('% of positive label per observation')\n",
    "plt.title('Data Distribution')\n",
    "plt.show()\n",
    "plt.savefig('DataDistribute.png', bbox_inches='tight')"
   ]
  },
  {
   "cell_type": "markdown",
   "metadata": {},
   "source": [
    "* Pixel Normalization: scale pixel values to the range 0-1.\n",
    "* Pixel Centering: scale pixel values to have a zero mean.\n",
    "* Pixel Standardization: scale pixel values to have a zero mean and unit variance."
   ]
  },
  {
   "cell_type": "code",
   "execution_count": 1,
   "metadata": {},
   "outputs": [
    {
     "ename": "NameError",
     "evalue": "name 'dtrain' is not defined",
     "output_type": "error",
     "traceback": [
      "\u001b[0;31m---------------------------------------------------------------------------\u001b[0m",
      "\u001b[0;31mNameError\u001b[0m                                 Traceback (most recent call last)",
      "\u001b[0;32m<ipython-input-1-4b98187e26dc>\u001b[0m in \u001b[0;36m<module>\u001b[0;34m\u001b[0m\n\u001b[1;32m      1\u001b[0m \u001b[0;31m### split data into train/valid/test\u001b[0m\u001b[0;34m\u001b[0m\u001b[0;34m\u001b[0m\u001b[0;34m\u001b[0m\u001b[0m\n\u001b[1;32m      2\u001b[0m \u001b[0;31m#random suffle on entire dataset\u001b[0m\u001b[0;34m\u001b[0m\u001b[0;34m\u001b[0m\u001b[0;34m\u001b[0m\u001b[0m\n\u001b[0;32m----> 3\u001b[0;31m \u001b[0mdtrain\u001b[0m \u001b[0;34m=\u001b[0m \u001b[0mdtrain\u001b[0m\u001b[0;34m.\u001b[0m\u001b[0msample\u001b[0m\u001b[0;34m(\u001b[0m\u001b[0mfrac\u001b[0m\u001b[0;34m=\u001b[0m\u001b[0;36m1\u001b[0m\u001b[0;34m)\u001b[0m\u001b[0;34m\u001b[0m\u001b[0;34m\u001b[0m\u001b[0m\n\u001b[0m\u001b[1;32m      4\u001b[0m \u001b[0;31m#Use 10% as validation set\u001b[0m\u001b[0;34m\u001b[0m\u001b[0;34m\u001b[0m\u001b[0;34m\u001b[0m\u001b[0m\n\u001b[1;32m      5\u001b[0m \u001b[0mdvalid_size\u001b[0m \u001b[0;34m=\u001b[0m \u001b[0mround\u001b[0m\u001b[0;34m(\u001b[0m\u001b[0;36m0.2\u001b[0m\u001b[0;34m*\u001b[0m\u001b[0mdtrain\u001b[0m\u001b[0;34m.\u001b[0m\u001b[0mshape\u001b[0m\u001b[0;34m[\u001b[0m\u001b[0;36m0\u001b[0m\u001b[0;34m]\u001b[0m\u001b[0;34m)\u001b[0m\u001b[0;34m\u001b[0m\u001b[0;34m\u001b[0m\u001b[0m\n",
      "\u001b[0;31mNameError\u001b[0m: name 'dtrain' is not defined"
     ]
    }
   ],
   "source": [
    "### split data into train/valid/test\n",
    "#random suffle on entire dataset\n",
    "dtrain = dtrain.sample(frac=1)\n",
    "#Use 10% as validation set\n",
    "dvalid_size = round(0.2*dtrain.shape[0])\n",
    "#Use 10% as test set\n",
    "dtest_size = dvalid_size\n",
    "\n",
    "dtr = dtrain[0:dtrain.shape[0]-dvalid_size-dtest_size+1]\n",
    "dv = dtrain[dtrain.shape[0]-dvalid_size-dtest_size:dtrain.shape[0]-dvalid_size+1]\n",
    "dte = dtrain[dtrain.shape[0]-dvalid_size:dtrain.shape[0]+1]\n",
    "\n",
    "print(\"Train set -\\t\", dtr.shape)\n",
    "print(\"Valid set -\\t\", dv.shape)\n",
    "print(\"Test set -\\t\", dte.shape)"
   ]
  },
  {
   "cell_type": "code",
   "execution_count": 22,
   "metadata": {},
   "outputs": [
    {
     "name": "stdout",
     "output_type": "stream",
     "text": [
      "Found 20761 validated image filenames.\n",
      "Found 2596 validated image filenames.\n",
      "Found 2595 validated image filenames.\n"
     ]
    }
   ],
   "source": [
    "### data generation for Keras \n",
    "train_datagen=ImageDataGenerator(rescale=1./255.)\n",
    "test_datagen=ImageDataGenerator(rescale=1./255.)\n",
    "valid_datagen=ImageDataGenerator(rescale=1./255.)\n",
    "\n",
    "# target_size = (224,224)\n",
    "#target_size = (299,299)\n",
    "target_size = (100,100)\n",
    "train_generator=train_datagen.flow_from_dataframe(dataframe=dtr, directory=None , \n",
    "                                                  x_col=\"Path\", y_col=list(dtr.columns[1:number_of_classes+1]), \n",
    "                                                  class_mode=\"other\", \n",
    "                                                  target_size=target_size, \n",
    "                                                  batch_size=batch_size)\n",
    "valid_generator=valid_datagen.flow_from_dataframe(dataframe=dv, directory=None , \n",
    "                                                  x_col=\"Path\", y_col=list(dv.columns[1:number_of_classes+1]), \n",
    "                                                  class_mode=\"other\", \n",
    "                                                  target_size=target_size, \n",
    "                                                  batch_size=batch_size)\n",
    "test_generator=test_datagen.flow_from_dataframe(dataframe=dte, directory=None , \n",
    "                                                x_col=\"Path\", y_col=list(dte.columns[1:number_of_classes+1]), \n",
    "                                                class_mode=\"other\", \n",
    "                                                target_size=target_size, \n",
    "                                                shuffle = False, batch_size=1)\n",
    "\n"
   ]
  },
  {
   "cell_type": "code",
   "execution_count": 23,
   "metadata": {},
   "outputs": [],
   "source": [
    " def global_average_pooling(x):\n",
    "        return K.mean(x, axis = (2, 3))\n",
    "    \n",
    "def global_average_pooling_shape(input_shape):\n",
    "    return input_shape[0:2]"
   ]
  },
  {
   "cell_type": "code",
   "execution_count": 24,
   "metadata": {
    "scrolled": true
   },
   "outputs": [
    {
     "name": "stdout",
     "output_type": "stream",
     "text": [
      "Model: \"sequential_1\"\n",
      "_________________________________________________________________\n",
      "Layer (type)                 Output Shape              Param #   \n",
      "=================================================================\n",
      "conv2d_4 (Conv2D)            (None, 96, 96, 16)        1216      \n",
      "_________________________________________________________________\n",
      "batch_normalization_4 (Batch (None, 96, 96, 16)        64        \n",
      "_________________________________________________________________\n",
      "max_pooling2d_3 (MaxPooling2 (None, 48, 48, 16)        0         \n",
      "_________________________________________________________________\n",
      "dropout_6 (Dropout)          (None, 48, 48, 16)        0         \n",
      "_________________________________________________________________\n",
      "conv2d_5 (Conv2D)            (None, 44, 44, 32)        12832     \n",
      "_________________________________________________________________\n",
      "max_pooling2d_4 (MaxPooling2 (None, 22, 22, 32)        0         \n",
      "_________________________________________________________________\n",
      "batch_normalization_5 (Batch (None, 22, 22, 32)        128       \n",
      "_________________________________________________________________\n",
      "dropout_7 (Dropout)          (None, 22, 22, 32)        0         \n",
      "_________________________________________________________________\n",
      "conv2d_6 (Conv2D)            (None, 18, 18, 64)        51264     \n",
      "_________________________________________________________________\n",
      "max_pooling2d_5 (MaxPooling2 (None, 9, 9, 64)          0         \n",
      "_________________________________________________________________\n",
      "batch_normalization_6 (Batch (None, 9, 9, 64)          256       \n",
      "_________________________________________________________________\n",
      "dropout_8 (Dropout)          (None, 9, 9, 64)          0         \n",
      "_________________________________________________________________\n",
      "conv2d_7 (Conv2D)            (None, 5, 5, 64)          102464    \n",
      "_________________________________________________________________\n",
      "global_average_pooling2d_1 ( (None, 64)                0         \n",
      "_________________________________________________________________\n",
      "batch_normalization_7 (Batch (None, 64)                256       \n",
      "_________________________________________________________________\n",
      "dropout_9 (Dropout)          (None, 64)                0         \n",
      "_________________________________________________________________\n",
      "flatten_1 (Flatten)          (None, 64)                0         \n",
      "_________________________________________________________________\n",
      "dense_3 (Dense)              (None, 128)               8320      \n",
      "_________________________________________________________________\n",
      "dropout_10 (Dropout)         (None, 128)               0         \n",
      "_________________________________________________________________\n",
      "dense_4 (Dense)              (None, 64)                8256      \n",
      "_________________________________________________________________\n",
      "dropout_11 (Dropout)         (None, 64)                0         \n",
      "_________________________________________________________________\n",
      "dense_5 (Dense)              (None, 2)                 130       \n",
      "=================================================================\n",
      "Total params: 185,186\n",
      "Trainable params: 184,834\n",
      "Non-trainable params: 352\n",
      "_________________________________________________________________\n"
     ]
    }
   ],
   "source": [
    "# ### model architecture design/selection\n",
    "\n",
    "#create model\n",
    "\n",
    "model = Sequential()\n",
    "\n",
    "model.add(Conv2D(filters=16, kernel_size=(5, 5), activation=\"relu\", input_shape=(100,100,3)))\n",
    "model.add(BatchNormalization())\n",
    "model.add(MaxPooling2D(pool_size=(2, 2)))\n",
    "model.add(Dropout(0.2))\n",
    "\n",
    "model.add(Conv2D(filters=32, kernel_size=(5, 5), activation='relu'))\n",
    "model.add(MaxPooling2D(pool_size=(2, 2)))\n",
    "model.add(BatchNormalization())\n",
    "model.add(Dropout(0.2))\n",
    "\n",
    "model.add(Conv2D(filters=64, kernel_size=(5, 5), activation=\"relu\"))\n",
    "model.add(MaxPooling2D(pool_size=(2, 2)))\n",
    "model.add(BatchNormalization())\n",
    "model.add(Dropout(0.2))\n",
    "\n",
    "model.add(Conv2D(filters=64, kernel_size=(5, 5), activation='relu'))\n",
    "# model.add(Lambda(global_average_pooling, output_shape=global_average_pooling_shape))\n",
    "model.add(GlobalAveragePooling2D())\n",
    "# model.add(MaxPooling2D(pool_size=(2, 2)))\n",
    "model.add(BatchNormalization())\n",
    "model.add(Dropout(0.2))\n",
    "\n",
    "model.add(Flatten())\n",
    "model.add(Dense(128, activation='relu'))\n",
    "model.add(Dropout(0.5))\n",
    "model.add(Dense(64, activation='relu'))\n",
    "model.add(Dropout(0.5))\n",
    "model.add(Dense(number_of_classes, activation='sigmoid'))\n",
    "\n",
    "\n",
    "\n",
    "\n",
    "# model = Sequential()\n",
    "# #add model layers\n",
    "# model.add(Conv2D(256, 3, input_shape = (50, 50, 3), activation = 'relu'))\n",
    "# # model.add(Conv2D(256, 3, activation = 'relu'))\n",
    "# model.add(MaxPooling2D(pool_size = (2,2)))\n",
    "# model.add(BatchNormalization())\n",
    "# # model.add(Dropout(0.5))\n",
    "# model.add(Conv2D(128, 3, activation= 'relu'))\n",
    "# model.add(MaxPooling2D(pool_size = (2,2)))\n",
    "# model.add(Dropout(0.2))\n",
    "\n",
    "# # model.add(BatchNormalization())\n",
    "# model.add(Conv2D(64, 3, activation= 'relu'))\n",
    "# # model.add(BatchNormalization())\n",
    "# model.add(Conv2D(32, 3, activation= 'relu'))\n",
    "# # model.add(BatchNormalization())\n",
    "\n",
    "# model.add(Flatten())\n",
    "# # model.add(Dense(128, activation= 'relu'))\n",
    "# # model.add(Dropout(0.3))\n",
    "# model.add(Dense(24, activation = 'relu'))\n",
    "# model.add(Dropout(0.2))\n",
    "# model.add(Dense(12, activation='relu'))\n",
    "# model.add(Dropout(0.2))\n",
    "# model.add(Dense(number_of_classes, activation='sigmoid'))\n",
    "\n",
    "\n",
    "adam = keras.optimizers.Adam(learning_rate=0.0001)#beta_1=0.9, beta_2=0.999, epsilon=None, decay=0.0, amsgrad=False\n",
    "model.compile(optimizer= adam, loss='binary_crossentropy', metrics=['accuracy'])\n",
    "plot_model(model, to_file='simple_base_model_plot.png', show_shapes=True, show_layer_names=True)\n",
    "model.summary()"
   ]
  },
  {
   "cell_type": "code",
   "execution_count": 25,
   "metadata": {},
   "outputs": [
    {
     "name": "stdout",
     "output_type": "stream",
     "text": [
      "Epoch 1/10\n",
      "648/648 [==============================] - 396s 605ms/step - loss: 0.7810 - accuracy: 0.5275 - val_loss: 0.7708 - val_accuracy: 0.5251\n",
      "Epoch 2/10\n",
      "648/648 [==============================] - 365s 563ms/step - loss: 0.7020 - accuracy: 0.5698 - val_loss: 0.6864 - val_accuracy: 0.5725\n",
      "Epoch 3/10\n",
      "648/648 [==============================] - 383s 592ms/step - loss: 0.6841 - accuracy: 0.5806 - val_loss: 0.7407 - val_accuracy: 0.5671\n",
      "Epoch 4/10\n",
      "648/648 [==============================] - 400s 617ms/step - loss: 0.6637 - accuracy: 0.6078 - val_loss: 0.7985 - val_accuracy: 0.5289\n",
      "Epoch 5/10\n",
      "648/648 [==============================] - 414s 639ms/step - loss: 0.6536 - accuracy: 0.6248 - val_loss: 0.7911 - val_accuracy: 0.5417\n",
      "Epoch 6/10\n",
      "648/648 [==============================] - 418s 645ms/step - loss: 0.6457 - accuracy: 0.6352 - val_loss: 0.6305 - val_accuracy: 0.6455\n",
      "Epoch 7/10\n",
      "648/648 [==============================] - 415s 640ms/step - loss: 0.6361 - accuracy: 0.6431 - val_loss: 0.6228 - val_accuracy: 0.6560\n",
      "Epoch 8/10\n",
      "648/648 [==============================] - 373s 576ms/step - loss: 0.6369 - accuracy: 0.6440 - val_loss: 0.6519 - val_accuracy: 0.6299\n",
      "Epoch 9/10\n",
      "648/648 [==============================] - 365s 563ms/step - loss: 0.6278 - accuracy: 0.6551 - val_loss: 0.6517 - val_accuracy: 0.6268\n",
      "Epoch 10/10\n",
      "648/648 [==============================] - 330s 510ms/step - loss: 0.6226 - accuracy: 0.6614 - val_loss: 0.6311 - val_accuracy: 0.6482\n"
     ]
    }
   ],
   "source": [
    "num_epochs = 10\n",
    "STEP_SIZE_TRAIN=train_generator.n//train_generator.batch_size\n",
    "STEP_SIZE_VALID=valid_generator.n//valid_generator.batch_size\n",
    "STEP_SIZE_TEST=test_generator.n//test_generator.batch_size\n",
    "\n",
    "#Tensorboard\n",
    "log_dir = \"logs/simple_model/\"# + datetime.datetime.now().strftime(\"%Y%m%d-%H%M%S\")\n",
    "tensorboard_callback = tf.keras.callbacks.TensorBoard(log_dir=log_dir, histogram_freq=1)\n",
    "\n",
    "model_h = model.fit(train_generator,\n",
    "                    steps_per_epoch=STEP_SIZE_TRAIN,\n",
    "                    validation_data=valid_generator,\n",
    "                    validation_steps=STEP_SIZE_VALID,\n",
    "                    epochs=num_epochs,\n",
    "                    workers=8,\n",
    "                    callbacks=[tensorboard_callback])\n",
    "\n",
    "# save model\n",
    "model.save(\"model_DenseNet121_TF_Simple_cam.h5\")"
   ]
  },
  {
   "cell_type": "code",
   "execution_count": 11,
   "metadata": {},
   "outputs": [],
   "source": [
    "# load my trained model \n",
    "model_F = load_model('model_DenseNet121_TF_Simple.h5')\n",
    "STEP_SIZE_TRAIN=train_generator.n//train_generator.batch_size\n",
    "STEP_SIZE_VALID=valid_generator.n//valid_generator.batch_size\n",
    "STEP_SIZE_TEST=test_generator.n//test_generator.batch_size"
   ]
  },
  {
   "cell_type": "code",
   "execution_count": 12,
   "metadata": {},
   "outputs": [
    {
     "name": "stderr",
     "output_type": "stream",
     "text": [
      "/usr/local/lib/python3.9/site-packages/keras/engine/training.py:1976: UserWarning: `Model.predict_generator` is deprecated and will be removed in a future version. Please use `Model.predict`, which supports generators.\n",
      "  warnings.warn('`Model.predict_generator` is deprecated and '\n"
     ]
    },
    {
     "name": "stdout",
     "output_type": "stream",
     "text": [
      "              precision    recall  f1-score   support\n",
      "\n",
      "   Pneumonia       0.51      1.00      0.67       434\n",
      "Pneumothorax       0.00      0.00      0.00       453\n",
      "\n",
      "   micro avg       0.51      0.49      0.50       887\n",
      "   macro avg       0.25      0.50      0.34       887\n",
      "weighted avg       0.25      0.49      0.33       887\n",
      " samples avg       0.51      0.49      0.49       887\n",
      "\n"
     ]
    },
    {
     "name": "stderr",
     "output_type": "stream",
     "text": [
      "/usr/local/lib/python3.9/site-packages/sklearn/metrics/_classification.py:1248: UndefinedMetricWarning: Precision and F-score are ill-defined and being set to 0.0 in labels with no predicted samples. Use `zero_division` parameter to control this behavior.\n",
      "  _warn_prf(average, modifier, msg_start, len(result))\n"
     ]
    }
   ],
   "source": [
    "### prediction and performance assessment\n",
    "test_generator.reset()\n",
    "pred=model.predict_generator(test_generator, steps=STEP_SIZE_TEST)\n",
    "pred_bool = (pred >= 0.5)\n",
    "\n",
    "y_pred = np.array(pred_bool,dtype =int)\n",
    "\n",
    "dtest = dte.to_numpy()\n",
    "y_true = np.array(dtest[:,1:number_of_classes+1],dtype=int)\n",
    "\n",
    "print(classification_report(y_true, y_pred,target_names=list(dtr.columns[1:number_of_classes+1])))"
   ]
  },
  {
   "cell_type": "code",
   "execution_count": 13,
   "metadata": {},
   "outputs": [
    {
     "name": "stderr",
     "output_type": "stream",
     "text": [
      "/usr/local/lib/python3.9/site-packages/keras/engine/training.py:1948: UserWarning: `Model.evaluate_generator` is deprecated and will be removed in a future version. Please use `Model.evaluate`, which supports generators.\n",
      "  warnings.warn('`Model.evaluate_generator` is deprecated and '\n"
     ]
    },
    {
     "name": "stdout",
     "output_type": "stream",
     "text": [
      "Test score: 0.8240113258361816\n",
      "Test accuracy: 0.5070093274116516\n"
     ]
    }
   ],
   "source": [
    "score, acc = model.evaluate_generator(test_generator, steps=STEP_SIZE_TEST)\n",
    "print('Test score:', score)\n",
    "print('Test accuracy:', acc)"
   ]
  },
  {
   "cell_type": "code",
   "execution_count": 14,
   "metadata": {
    "scrolled": true
   },
   "outputs": [
    {
     "data": {
      "image/png": "[encoded data removed]",
      "text/plain": [
       "<Figure size 432x288 with 1 Axes>"
      ]
     },
     "metadata": {
      "needs_background": "light"
     },
     "output_type": "display_data"
    }
   ],
   "source": [
    "from PIL import Image\n",
    "fname = dtrain['Path'].iloc[0]\n",
    "image = Image.open(fname).convert(\"L\")\n",
    "arr = np.asarray(image)\n",
    "plt.imshow(arr, cmap='gray', vmin=0, vmax=255)\n",
    "plt.show()"
   ]
  },
  {
   "cell_type": "code",
   "execution_count": 15,
   "metadata": {},
   "outputs": [
    {
     "ename": "ValueError",
     "evalue": "No such layer: conv2d_7.",
     "output_type": "error",
     "traceback": [
      "\u001b[0;31m---------------------------------------------------------------------------\u001b[0m",
      "\u001b[0;31mValueError\u001b[0m                                Traceback (most recent call last)",
      "\u001b[0;32m<ipython-input-15-9498b726f9be>\u001b[0m in \u001b[0;36m<module>\u001b[0;34m\u001b[0m\n\u001b[0;32m----> 1\u001b[0;31m \u001b[0mlast_conv_layer\u001b[0m \u001b[0;34m=\u001b[0m \u001b[0mmodel\u001b[0m\u001b[0;34m.\u001b[0m\u001b[0mget_layer\u001b[0m\u001b[0;34m(\u001b[0m\u001b[0;34m'conv2d_7'\u001b[0m\u001b[0;34m)\u001b[0m\u001b[0;34m\u001b[0m\u001b[0;34m\u001b[0m\u001b[0m\n\u001b[0m\u001b[1;32m      2\u001b[0m \u001b[0mprint\u001b[0m\u001b[0;34m(\u001b[0m\u001b[0mlast_conv_layer\u001b[0m\u001b[0;34m)\u001b[0m\u001b[0;34m\u001b[0m\u001b[0;34m\u001b[0m\u001b[0m\n\u001b[1;32m      3\u001b[0m \u001b[0mprint\u001b[0m\u001b[0;34m(\u001b[0m\u001b[0mlast_conv_layer\u001b[0m\u001b[0;34m.\u001b[0m\u001b[0moutput\u001b[0m\u001b[0;34m)\u001b[0m\u001b[0;34m\u001b[0m\u001b[0;34m\u001b[0m\u001b[0m\n",
      "\u001b[0;32m/usr/local/lib/python3.9/site-packages/keras/engine/training.py\u001b[0m in \u001b[0;36mget_layer\u001b[0;34m(self, name, index)\u001b[0m\n\u001b[1;32m   2497\u001b[0m         \u001b[0;32mif\u001b[0m \u001b[0mlayer\u001b[0m\u001b[0;34m.\u001b[0m\u001b[0mname\u001b[0m \u001b[0;34m==\u001b[0m \u001b[0mname\u001b[0m\u001b[0;34m:\u001b[0m\u001b[0;34m\u001b[0m\u001b[0;34m\u001b[0m\u001b[0m\n\u001b[1;32m   2498\u001b[0m           \u001b[0;32mreturn\u001b[0m \u001b[0mlayer\u001b[0m\u001b[0;34m\u001b[0m\u001b[0;34m\u001b[0m\u001b[0m\n\u001b[0;32m-> 2499\u001b[0;31m       \u001b[0;32mraise\u001b[0m \u001b[0mValueError\u001b[0m\u001b[0;34m(\u001b[0m\u001b[0;34m'No such layer: '\u001b[0m \u001b[0;34m+\u001b[0m \u001b[0mname\u001b[0m \u001b[0;34m+\u001b[0m \u001b[0;34m'.'\u001b[0m\u001b[0;34m)\u001b[0m\u001b[0;34m\u001b[0m\u001b[0;34m\u001b[0m\u001b[0m\n\u001b[0m\u001b[1;32m   2500\u001b[0m     \u001b[0;32mraise\u001b[0m \u001b[0mValueError\u001b[0m\u001b[0;34m(\u001b[0m\u001b[0;34m'Provide either a layer name or layer index.'\u001b[0m\u001b[0;34m)\u001b[0m\u001b[0;34m\u001b[0m\u001b[0;34m\u001b[0m\u001b[0m\n\u001b[1;32m   2501\u001b[0m \u001b[0;34m\u001b[0m\u001b[0m\n",
      "\u001b[0;31mValueError\u001b[0m: No such layer: conv2d_7."
     ]
    }
   ],
   "source": [
    "last_conv_layer = model.get_layer('conv2d_7')\n",
    "print(last_conv_layer)\n",
    "print(last_conv_layer.output)"
   ]
  },
  {
   "cell_type": "code",
   "execution_count": null,
   "metadata": {},
   "outputs": [],
   "source": [
    "index=0\n",
    "argmax = np.argmax(pred[index])\n",
    "print(pred[index])\n",
    "print(argmax)\n",
    "\n",
    "\n",
    "output = model.output[:, argmax]\n",
    "# tf.compat.v1.disable_eager_execution()\n",
    "grads = K.gradients(output, last_conv_layer.output)[0]\n",
    "print(grads)\n",
    "# pooled_grads = K.mean(grads, axis=(0, 1, 2))\n",
    "\n",
    "# iterate = K.function([model.input], [pooled_grads, last_conv_layer.output[0]])\n",
    "\n",
    "# x=valid_generator[index][0]\n",
    "# pooled_grads_value, conv_layer_output_value = iterate([x])\n",
    "\n",
    "# for i in range(1024):\n",
    "#     conv_layer_output_value[:, :, i] *= pooled_grads_value[i]\n",
    "\n",
    "# heatmap = np.mean(conv_layer_output_value, axis=-1)\n",
    "# heatmap = np.maximum(heatmap, 0)\n",
    "# heatmap /= np.max(heatmap)\n",
    "# plt.matshow(heatmap)\n",
    "# plt.show()\n",
    "\n",
    "\n",
    "\n",
    "# import cv2\n",
    "# # select the sample and read the corresponding image and label\n",
    "# sample_image = cv2.imread(fname)\n",
    "# # pre-process the image\n",
    "# sample_image = cv2.resize(sample_image, (224,224))\n",
    "# if sample_image.shape[2] ==1:\n",
    "#             sample_image = np.dstack([sample_image, sample_image, sample_image])\n",
    "# sample_image = cv2.cvtColor(sample_image, cv2.COLOR_BGR2RGB)\n",
    "# sample_image = sample_image.astype(np.float32)/255.\n",
    "# sample_label = 1\n",
    "\n",
    "# sample_image_processed = np.expand_dims(sample_image, axis=0)\n",
    "# sample_image_processed.shape\n",
    "# heatmap = cv2.resize(heatmap, (sample_image.shape[0], sample_image.shape[1]))\n",
    "# heatmap = heatmap *255\n",
    "# heatmap = np.clip(heatmap, 0, 255).astype(np.uint8)\n",
    "# heatmap = cv2.applyColorMap(heatmap, cv2.COLORMAP_JET)\n",
    "\n",
    "# from skimage import data, color, io, img_as_float\n",
    "# sample_image_hsv = color.rgb2hsv(sample_image)\n",
    "# heatmap = color.rgb2hsv(heatmap)\n",
    "\n",
    "# alpha=0.7\n",
    "# sample_image_hsv[..., 0] = heatmap[..., 0]\n",
    "# sample_image_hsv[..., 1] = heatmap[..., 1] * alpha\n",
    "\n",
    "# img_masked = color.hsv2rgb(sample_image_hsv)\n",
    "# f,ax = plt.subplots(1,2, figsize=(16,6))\n",
    "# ax[0].imshow(sample_image)\n",
    "# ax[0].set_title(f\"Image - Lung Opacity Traget\")\n",
    "# ax[0].axis('off')\n",
    "    \n",
    "# ax[1].imshow(img_masked)\n",
    "# ax[1].set_title(\"Class Activation Map - Lung Opacity has highest predicted probability\")\n",
    "# ax[1].axis('off')\n",
    "\n",
    "# plt.show()"
   ]
  },
  {
   "cell_type": "code",
   "execution_count": null,
   "metadata": {},
   "outputs": [],
   "source": []
  }
 ],
 "metadata": {
  "kernelspec": {
   "display_name": "Python 3",
   "language": "python",
   "name": "python3"
  },
  "language_info": {
   "codemirror_mode": {
    "name": "ipython",
    "version": 3
   },
   "file_extension": ".py",
   "mimetype": "text/x-python",
   "name": "python",
   "nbconvert_exporter": "python",
   "pygments_lexer": "ipython3",
   "version": "3.9.1"
  }
 },
 "nbformat": 4,
 "nbformat_minor": 2
}
