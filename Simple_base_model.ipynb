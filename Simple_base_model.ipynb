{
 "cells": [
  {
   "cell_type": "code",
   "execution_count": 1,
   "metadata": {},
   "outputs": [],
   "source": [
    "### import libraries\n",
    "import keras\n",
    "from keras_preprocessing.image import ImageDataGenerator\n",
    "from keras.layers import Dense, Activation, Flatten, Dropout, BatchNormalization\n",
    "from keras.layers import Conv2D, MaxPooling2D\n",
    "from keras import regularizers, optimizers\n",
    "from keras.models import Sequential\n",
    "\n",
    "from keras.applications.densenet import DenseNet121\n",
    "from keras.preprocessing import image\n",
    "from keras.models import Model\n",
    "from keras.layers import Dense, GlobalAveragePooling2D\n",
    "from keras import backend as K\n",
    "from keras.models import load_model\n",
    "from keras.utils.vis_utils import plot_model\n",
    "\n",
    "import pandas as pd\n",
    "import numpy as np\n",
    "from pathlib import Path\n",
    "\n",
    "import matplotlib\n",
    "# matplotlib.use(\"Agg\") # set the matplotlib backend so figures can be saved in the background\n",
    " \n",
    "from sklearn.metrics import classification_report\n",
    "import matplotlib.pyplot as plt\n",
    "\n",
    "import datetime\n",
    "import tensorflow as tf\n",
    "\n",
    "import json"
   ]
  },
  {
   "cell_type": "code",
   "execution_count": 15,
   "metadata": {},
   "outputs": [],
   "source": [
    "def read_config(p):\n",
    "    '''read from configuration file'''\n",
    "    with open(p) as f:\n",
    "        d = json.load(f)\n",
    "    \n",
    "    #fix trailing slash\n",
    "    if(d['df'][-1] != '/'):\n",
    "        d['df'] += '/'\n",
    "    \n",
    "    print(\"path: \", d['df'])\n",
    "    print(\"train labels\", d['train_labels'])\n",
    "    print(\"test_labels\", d['test_labels'])\n",
    "    print(\"features\", d['features']),\n",
    "    print(\"processing features\", d['process_features'])\n",
    "    print(\"batch size\", d['batch_size'])\n",
    "    return d['df'], d['train_labels'], d['test_labels'], d['features'], d['process_features'], d['batch_size']"
   ]
  },
  {
   "cell_type": "code",
   "execution_count": 16,
   "metadata": {},
   "outputs": [
    {
     "name": "stdout",
     "output_type": "stream",
     "text": [
      "path:  CheXpert-v1.0-small/\n",
      "train labels train.csv\n",
      "test_labels valid.csv\n",
      "features ['Path', 'Sex', 'Age', 'Frontal/Lateral', 'AP/PA', 'Enlarged Cardiomediastinum', 'Cardiomegaly', 'Lung Opacity', 'Edema', 'Pneumonia', 'Lung Lesion', 'No Finding', 'Consolidation', 'Atelectasis', 'Pneumothorax', 'Pleural Effusion', 'Pleural Other', 'Fracture', 'Support Devices']\n",
      "processing features {'x_col': 'Path', 'y_col': ['No Finding', 'Pneumonia', 'Lung Lesion']}\n",
      "batch size 32\n",
      "dropping columns....\n",
      " ['Sex', 'Pleural Effusion', 'Pleural Other', 'Lung Opacity', 'Atelectasis', 'Edema', 'Enlarged Cardiomediastinum', 'Support Devices', 'Fracture', 'Frontal/Lateral', 'Consolidation', 'AP/PA', 'Pneumothorax', 'Cardiomegaly', 'Age']\n",
      "(44471, 4)\n"
     ]
    },
    {
     "data": {
      "text/html": [
       "<div>\n",
       "<style scoped>\n",
       "    .dataframe tbody tr th:only-of-type {\n",
       "        vertical-align: middle;\n",
       "    }\n",
       "\n",
       "    .dataframe tbody tr th {\n",
       "        vertical-align: top;\n",
       "    }\n",
       "\n",
       "    .dataframe thead th {\n",
       "        text-align: right;\n",
       "    }\n",
       "</style>\n",
       "<table border=\"1\" class=\"dataframe\">\n",
       "  <thead>\n",
       "    <tr style=\"text-align: right;\">\n",
       "      <th></th>\n",
       "      <th>Path</th>\n",
       "      <th>No Finding</th>\n",
       "      <th>Lung Lesion</th>\n",
       "      <th>Pneumonia</th>\n",
       "    </tr>\n",
       "  </thead>\n",
       "  <tbody>\n",
       "    <tr>\n",
       "      <th>40</th>\n",
       "      <td>CheXpert-v1.0-small/train/patient00013/study1/...</td>\n",
       "      <td>1.0</td>\n",
       "      <td>0.0</td>\n",
       "      <td>0.0</td>\n",
       "    </tr>\n",
       "    <tr>\n",
       "      <th>56</th>\n",
       "      <td>CheXpert-v1.0-small/train/patient00019/study2/...</td>\n",
       "      <td>0.0</td>\n",
       "      <td>1.0</td>\n",
       "      <td>0.0</td>\n",
       "    </tr>\n",
       "    <tr>\n",
       "      <th>58</th>\n",
       "      <td>CheXpert-v1.0-small/train/patient00021/study1/...</td>\n",
       "      <td>1.0</td>\n",
       "      <td>0.0</td>\n",
       "      <td>0.0</td>\n",
       "    </tr>\n",
       "    <tr>\n",
       "      <th>72</th>\n",
       "      <td>CheXpert-v1.0-small/train/patient00023/study5/...</td>\n",
       "      <td>1.0</td>\n",
       "      <td>0.0</td>\n",
       "      <td>0.0</td>\n",
       "    </tr>\n",
       "    <tr>\n",
       "      <th>80</th>\n",
       "      <td>CheXpert-v1.0-small/train/patient00023/study3/...</td>\n",
       "      <td>0.0</td>\n",
       "      <td>0.0</td>\n",
       "      <td>1.0</td>\n",
       "    </tr>\n",
       "  </tbody>\n",
       "</table>\n",
       "</div>"
      ],
      "text/plain": [
       "                                                 Path  No Finding  \\\n",
       "40  CheXpert-v1.0-small/train/patient00013/study1/...         1.0   \n",
       "56  CheXpert-v1.0-small/train/patient00019/study2/...         0.0   \n",
       "58  CheXpert-v1.0-small/train/patient00021/study1/...         1.0   \n",
       "72  CheXpert-v1.0-small/train/patient00023/study5/...         1.0   \n",
       "80  CheXpert-v1.0-small/train/patient00023/study3/...         0.0   \n",
       "\n",
       "    Lung Lesion  Pneumonia  \n",
       "40          0.0        0.0  \n",
       "56          1.0        0.0  \n",
       "58          0.0        0.0  \n",
       "72          0.0        0.0  \n",
       "80          0.0        1.0  "
      ]
     },
     "execution_count": 16,
     "metadata": {},
     "output_type": "execute_result"
    }
   ],
   "source": [
    "[df_path, train_labels, test_labels, features, processing_features, batch_size] = read_config('config.json')\n",
    "x_col = processing_features['x_col']\n",
    "y_col = processing_features['y_col']\n",
    "number_of_classes = len(y_col)\n",
    "\n",
    "# import train data info from valid.csv\n",
    "dtrain=pd.read_csv(df_path + train_labels)\n",
    "dtrain = dtrain.fillna(0)\n",
    "\n",
    "# import valid data info from valid.csv\n",
    "dtest = pd.read_csv(df_path + test_labels)\n",
    "dtest = dtest.fillna(0)\n",
    "\n",
    "#add dnew to dtrain to re-split since valid data in data set is very small\n",
    "dtrain = dtrain.append(dtest)\n",
    "\n",
    "#pre-process data: remove Lateral images\n",
    "dtrain = dtrain[~dtrain[dtrain.columns[3]].str.contains(\"Lateral\")]\n",
    "\n",
    "#pre-process data: drop selected features - only images as inputs\n",
    "#drop all features that are not included in processing_features\n",
    "to_drop = list(set(features) - set(y_col))\n",
    "to_drop.remove(x_col)\n",
    "print('dropping columns....\\n', to_drop)\n",
    "dtrain = dtrain.drop(to_drop, axis=1)\n",
    "\n",
    "#uncertain examples make them positive\n",
    "dtrain = dtrain.replace(-1,1)\n",
    "\n",
    "dtrain.drop(dtrain.loc[(dtrain['Pneumonia'] == 0) & (dtrain['No Finding'] == 0) & (dtrain['Lung Lesion'] == 0)].index, inplace=True)\n",
    "\n",
    "\n",
    "print(dtrain.shape)\n",
    "dtrain.head()\n"
   ]
  },
  {
   "cell_type": "code",
   "execution_count": 11,
   "metadata": {},
   "outputs": [
    {
     "data": {
      "text/plain": [
       "['No Finding', 'Pneumonia', 'Lung Lesion']"
      ]
     },
     "execution_count": 11,
     "metadata": {},
     "output_type": "execute_result"
    }
   ],
   "source": []
  },
  {
   "cell_type": "code",
   "execution_count": 17,
   "metadata": {},
   "outputs": [
    {
     "data": {
      "image/png": "[encoded data removed]",
      "text/plain": [
       "<Figure size 432x288 with 1 Axes>"
      ]
     },
     "metadata": {
      "needs_background": "light"
     },
     "output_type": "display_data"
    },
    {
     "data": {
      "text/plain": [
       "<Figure size 432x288 with 0 Axes>"
      ]
     },
     "metadata": {},
     "output_type": "display_data"
    }
   ],
   "source": [
    "%matplotlib inline\n",
    "features_size=[]\n",
    "features_data =[]\n",
    "features_name=[]\n",
    "for feature in list(dtrain.columns[1:4]):\n",
    "    data_feature = dtrain.loc[dtrain[feature] == 1]\n",
    "    features_size.append(data_feature.shape[0])\n",
    "    features_data.append(data_feature)\n",
    "    features_name.append(feature)\n",
    "\n",
    "objects = list(dtrain.columns[1:number_of_classes+1])\n",
    "y_pos = np.arange(len(objects))\n",
    "performance = np.array(features_size)/dtrain.shape[0]*100\n",
    "# print(features_data)\n",
    "plt.barh(y_pos, performance, align='center', alpha=0.5)\n",
    "plt.yticks(y_pos, objects)\n",
    "plt.xlabel('% of positive label per observation')\n",
    "plt.title('Data Distribution')\n",
    "plt.show()\n",
    "plt.savefig('DataDistribute.png', bbox_inches='tight')"
   ]
  },
  {
   "cell_type": "code",
   "execution_count": 18,
   "metadata": {},
   "outputs": [
    {
     "name": "stdout",
     "output_type": "stream",
     "text": [
      "Train set -\t (35578, 4)\n",
      "Valid set -\t (4448, 4)\n",
      "Test set -\t (4447, 4)\n"
     ]
    }
   ],
   "source": [
    "### split data into train/valid/test\n",
    "#random suffle on entire dataset\n",
    "dtrain = dtrain.sample(frac=1)\n",
    "#Use 10% as validation set\n",
    "dvalid_size = round(0.1*dtrain.shape[0])\n",
    "#Use 10% as test set\n",
    "dtest_size = dvalid_size\n",
    "\n",
    "dtr = dtrain[0:dtrain.shape[0]-dvalid_size-dtest_size+1]\n",
    "dv = dtrain[dtrain.shape[0]-dvalid_size-dtest_size:dtrain.shape[0]-dvalid_size+1]\n",
    "dte = dtrain[dtrain.shape[0]-dvalid_size:dtrain.shape[0]+1]\n",
    "\n",
    "print(\"Train set -\\t\", dtr.shape)\n",
    "print(\"Valid set -\\t\", dv.shape)\n",
    "print(\"Test set -\\t\", dte.shape)"
   ]
  },
  {
   "cell_type": "code",
   "execution_count": 19,
   "metadata": {},
   "outputs": [
    {
     "name": "stdout",
     "output_type": "stream",
     "text": [
      "Found 35578 validated image filenames.\n",
      "Found 4448 validated image filenames.\n",
      "Found 4447 validated image filenames.\n"
     ]
    }
   ],
   "source": [
    "### data generation for Keras \n",
    "train_datagen=ImageDataGenerator(rescale=1./255)\n",
    "test_datagen=ImageDataGenerator(rescale=1./255.)\n",
    "valid_datagen=ImageDataGenerator(rescale=1./255.)\n",
    "\n",
    "# target_size = (224,224)\n",
    "#target_size = (299,299)\n",
    "target_size = (75,75)\n",
    "train_generator=train_datagen.flow_from_dataframe(dataframe=dtr, directory=None , \n",
    "                                                  x_col=\"Path\", y_col=list(dtr.columns[1:number_of_classes+1]), \n",
    "                                                  class_mode=\"other\", \n",
    "                                                  target_size=target_size, \n",
    "                                                  batch_size=batch_size)\n",
    "valid_generator=valid_datagen.flow_from_dataframe(dataframe=dv, directory=None , \n",
    "                                                  x_col=\"Path\", y_col=list(dv.columns[1:number_of_classes+1]), \n",
    "                                                  class_mode=\"other\", \n",
    "                                                  target_size=target_size, \n",
    "                                                  batch_size=batch_size)\n",
    "test_generator=test_datagen.flow_from_dataframe(dataframe=dte, directory=None , \n",
    "                                                x_col=\"Path\", y_col=list(dte.columns[1:number_of_classes+1]), \n",
    "                                                class_mode=\"other\", \n",
    "                                                target_size=target_size, \n",
    "                                                shuffle = False, batch_size=1)"
   ]
  },
  {
   "cell_type": "code",
   "execution_count": 26,
   "metadata": {},
   "outputs": [],
   "source": [
    "### model architecture design/selection\n",
    "# create the base pre-trained model\n",
    "base_model = DenseNet121(include_top = False, weights='imagenet')\n",
    "\n",
    "# add a global spatial average pooling layer\n",
    "x = base_model.output\n",
    "x = GlobalAveragePooling2D()(x)\n",
    "# let's add a fully-connected layer\n",
    "x = Dense(1024, activation='relu')(x)\n",
    "# and a logistic layer\n",
    "predictions = Dense(number_of_classes, activation='sigmoid')(x)\n",
    "\n",
    "# this is the model we will train\n",
    "model = Model(inputs=base_model.input, outputs=predictions)\n",
    "\n",
    "# first: train only the top layers (which were randomly initialized)\n",
    "# i.e. freeze all convolutional DenseNet layers\n",
    "for layer in base_model.layers:\n",
    "    layer.trainable = False\n",
    "\n",
    "# compile the model (should be done *after* setting layers to non-trainable)\n",
    "\n",
    "#model training\n",
    "adam = keras.optimizers.Adam(learning_rate=0.0001, beta_1=0.9, beta_2=0.999, epsilon=None, decay=0.0, amsgrad=False)\n",
    "model.compile(optimizer= adam, loss='categorical_crossentropy', metrics=['accuracy'])\n",
    "#binary_crossentropy\n",
    "#plot_model(model, to_file='model_plot.png', show_shapes=True, show_layer_names=True)\n",
    "#print(model.summary())"
   ]
  },
  {
   "cell_type": "code",
   "execution_count": 27,
   "metadata": {},
   "outputs": [
    {
     "name": "stdout",
     "output_type": "stream",
     "text": [
      "Epoch 1/10\n",
      "1111/1111 [==============================] - 576s 489ms/step - loss: 1.0850 - accuracy: 0.5534 - val_loss: 0.9403 - val_accuracy: 0.6162\n",
      "Epoch 2/10\n",
      "1111/1111 [==============================] - 523s 471ms/step - loss: 0.9625 - accuracy: 0.5985 - val_loss: 1.0041 - val_accuracy: 0.5609\n",
      "Epoch 3/10\n",
      "1111/1111 [==============================] - 510s 459ms/step - loss: 0.9962 - accuracy: 0.5978 - val_loss: 1.3687 - val_accuracy: 0.5378\n",
      "Epoch 4/10\n",
      "1111/1111 [==============================] - 523s 471ms/step - loss: 1.0071 - accuracy: 0.5938 - val_loss: 1.1059 - val_accuracy: 0.5540\n",
      "Epoch 5/10\n",
      "1111/1111 [==============================] - 508s 458ms/step - loss: 1.1137 - accuracy: 0.5771 - val_loss: 1.0410 - val_accuracy: 0.6232\n",
      "Epoch 6/10\n",
      "1111/1111 [==============================] - 518s 466ms/step - loss: 1.1120 - accuracy: 0.5781 - val_loss: 1.0578 - val_accuracy: 0.5908\n",
      "Epoch 7/10\n",
      "1111/1111 [==============================] - 508s 457ms/step - loss: 1.1498 - accuracy: 0.5801 - val_loss: 1.5446 - val_accuracy: 0.5382\n",
      "Epoch 8/10\n",
      "1111/1111 [==============================] - 508s 457ms/step - loss: 1.1506 - accuracy: 0.5814 - val_loss: 1.1568 - val_accuracy: 0.6205\n",
      "Epoch 9/10\n",
      "1111/1111 [==============================] - 511s 460ms/step - loss: 1.1846 - accuracy: 0.5840 - val_loss: 1.3954 - val_accuracy: 0.4984\n",
      "Epoch 10/10\n",
      "1111/1111 [==============================] - 514s 462ms/step - loss: 1.2411 - accuracy: 0.5837 - val_loss: 0.9842 - val_accuracy: 0.6147\n"
     ]
    }
   ],
   "source": [
    "\n",
    "### fit model \n",
    "num_epochs = 10\n",
    "STEP_SIZE_TRAIN=train_generator.n//train_generator.batch_size\n",
    "STEP_SIZE_VALID=valid_generator.n//valid_generator.batch_size\n",
    "STEP_SIZE_TEST=test_generator.n//test_generator.batch_size\n",
    "\n",
    "\n",
    "#Tensorboard\n",
    "log_dir = \"logs/fit/train\"# + datetime.datetime.now().strftime(\"%Y%m%d-%H%M%S\")\n",
    "tensorboard_callback = tf.keras.callbacks.TensorBoard(log_dir=log_dir, histogram_freq=1)\n",
    "\n",
    "model_H = model.fit(train_generator,\n",
    "                    steps_per_epoch=STEP_SIZE_TRAIN,\n",
    "                    validation_data=valid_generator,\n",
    "                    validation_steps=STEP_SIZE_VALID,\n",
    "                    epochs=num_epochs,\n",
    "                    callbacks=[tensorboard_callback])\n",
    "# save model\n",
    "model.save(\"model_DenseNet121_TF_Simple.h5\")"
   ]
  },
  {
   "cell_type": "code",
   "execution_count": 28,
   "metadata": {},
   "outputs": [],
   "source": [
    "# load my trained model \n",
    "model_F = load_model('model_DenseNet121_TF_Simple.h5')\n",
    "STEP_SIZE_TRAIN=train_generator.n//train_generator.batch_size\n",
    "STEP_SIZE_VALID=valid_generator.n//valid_generator.batch_size\n",
    "STEP_SIZE_TEST=test_generator.n//test_generator.batch_size"
   ]
  },
  {
   "cell_type": "code",
   "execution_count": 29,
   "metadata": {},
   "outputs": [
    {
     "name": "stderr",
     "output_type": "stream",
     "text": [
      "/usr/local/lib/python3.9/site-packages/keras/engine/training.py:1976: UserWarning: `Model.predict_generator` is deprecated and will be removed in a future version. Please use `Model.predict`, which supports generators.\n",
      "  warnings.warn('`Model.predict_generator` is deprecated and '\n"
     ]
    },
    {
     "name": "stdout",
     "output_type": "stream",
     "text": [
      "              precision    recall  f1-score   support\n",
      "\n",
      "  No Finding       0.37      1.00      0.54      1657\n",
      " Lung Lesion       0.19      1.00      0.32       839\n",
      "   Pneumonia       0.47      1.00      0.64      2083\n",
      "\n",
      "   micro avg       0.34      1.00      0.51      4579\n",
      "   macro avg       0.34      1.00      0.50      4579\n",
      "weighted avg       0.38      1.00      0.54      4579\n",
      " samples avg       0.34      1.00      0.51      4579\n",
      "\n"
     ]
    }
   ],
   "source": [
    "### prediction and performance assessment\n",
    "test_generator.reset()\n",
    "pred=model.predict_generator(test_generator, steps=STEP_SIZE_TEST)\n",
    "pred_bool = (pred >= 0.5)\n",
    "\n",
    "y_pred = np.array(pred_bool,dtype =int)\n",
    "\n",
    "dtest = dte.to_numpy()\n",
    "y_true = np.array(dtest[:,1:number_of_classes+1],dtype=int)\n",
    "\n",
    "print(classification_report(y_true, y_pred,target_names=list(dtr.columns[1:number_of_classes+1])))"
   ]
  },
  {
   "cell_type": "code",
   "execution_count": 24,
   "metadata": {},
   "outputs": [
    {
     "name": "stderr",
     "output_type": "stream",
     "text": [
      "/usr/local/lib/python3.9/site-packages/keras/engine/training.py:1948: UserWarning: `Model.evaluate_generator` is deprecated and will be removed in a future version. Please use `Model.evaluate`, which supports generators.\n",
      "  warnings.warn('`Model.evaluate_generator` is deprecated and '\n"
     ]
    },
    {
     "ename": "KeyboardInterrupt",
     "evalue": "",
     "output_type": "error",
     "traceback": [
      "\u001b[0;31m---------------------------------------------------------------------------\u001b[0m",
      "\u001b[0;31mKeyboardInterrupt\u001b[0m                         Traceback (most recent call last)",
      "\u001b[0;32m<ipython-input-24-aea8190b2e5f>\u001b[0m in \u001b[0;36m<module>\u001b[0;34m\u001b[0m\n\u001b[0;32m----> 1\u001b[0;31m \u001b[0mscore\u001b[0m\u001b[0;34m,\u001b[0m \u001b[0macc\u001b[0m \u001b[0;34m=\u001b[0m \u001b[0mmodel\u001b[0m\u001b[0;34m.\u001b[0m\u001b[0mevaluate_generator\u001b[0m\u001b[0;34m(\u001b[0m\u001b[0mtest_generator\u001b[0m\u001b[0;34m,\u001b[0m \u001b[0msteps\u001b[0m\u001b[0;34m=\u001b[0m\u001b[0mSTEP_SIZE_TEST\u001b[0m\u001b[0;34m)\u001b[0m\u001b[0;34m\u001b[0m\u001b[0;34m\u001b[0m\u001b[0m\n\u001b[0m\u001b[1;32m      2\u001b[0m \u001b[0mprint\u001b[0m\u001b[0;34m(\u001b[0m\u001b[0;34m'Test score:'\u001b[0m\u001b[0;34m,\u001b[0m \u001b[0mscore\u001b[0m\u001b[0;34m)\u001b[0m\u001b[0;34m\u001b[0m\u001b[0;34m\u001b[0m\u001b[0m\n\u001b[1;32m      3\u001b[0m \u001b[0mprint\u001b[0m\u001b[0;34m(\u001b[0m\u001b[0;34m'Test accuracy:'\u001b[0m\u001b[0;34m,\u001b[0m \u001b[0macc\u001b[0m\u001b[0;34m)\u001b[0m\u001b[0;34m\u001b[0m\u001b[0;34m\u001b[0m\u001b[0m\n",
      "\u001b[0;32m/usr/local/lib/python3.9/site-packages/keras/engine/training.py\u001b[0m in \u001b[0;36mevaluate_generator\u001b[0;34m(self, generator, steps, callbacks, max_queue_size, workers, use_multiprocessing, verbose)\u001b[0m\n\u001b[1;32m   1951\u001b[0m     \u001b[0mself\u001b[0m\u001b[0;34m.\u001b[0m\u001b[0m_check_call_args\u001b[0m\u001b[0;34m(\u001b[0m\u001b[0;34m'evaluate_generator'\u001b[0m\u001b[0;34m)\u001b[0m\u001b[0;34m\u001b[0m\u001b[0;34m\u001b[0m\u001b[0m\n\u001b[1;32m   1952\u001b[0m \u001b[0;34m\u001b[0m\u001b[0m\n\u001b[0;32m-> 1953\u001b[0;31m     return self.evaluate(\n\u001b[0m\u001b[1;32m   1954\u001b[0m         \u001b[0mgenerator\u001b[0m\u001b[0;34m,\u001b[0m\u001b[0;34m\u001b[0m\u001b[0;34m\u001b[0m\u001b[0m\n\u001b[1;32m   1955\u001b[0m         \u001b[0msteps\u001b[0m\u001b[0;34m=\u001b[0m\u001b[0msteps\u001b[0m\u001b[0;34m,\u001b[0m\u001b[0;34m\u001b[0m\u001b[0;34m\u001b[0m\u001b[0m\n",
      "\u001b[0;32m/usr/local/lib/python3.9/site-packages/keras/engine/training.py\u001b[0m in \u001b[0;36mevaluate\u001b[0;34m(self, x, y, batch_size, verbose, sample_weight, steps, callbacks, max_queue_size, workers, use_multiprocessing, return_dict, **kwargs)\u001b[0m\n\u001b[1;32m   1462\u001b[0m             \u001b[0;32mwith\u001b[0m \u001b[0mtf\u001b[0m\u001b[0;34m.\u001b[0m\u001b[0mprofiler\u001b[0m\u001b[0;34m.\u001b[0m\u001b[0mexperimental\u001b[0m\u001b[0;34m.\u001b[0m\u001b[0mTrace\u001b[0m\u001b[0;34m(\u001b[0m\u001b[0;34m'test'\u001b[0m\u001b[0;34m,\u001b[0m \u001b[0mstep_num\u001b[0m\u001b[0;34m=\u001b[0m\u001b[0mstep\u001b[0m\u001b[0;34m,\u001b[0m \u001b[0m_r\u001b[0m\u001b[0;34m=\u001b[0m\u001b[0;36m1\u001b[0m\u001b[0;34m)\u001b[0m\u001b[0;34m:\u001b[0m\u001b[0;34m\u001b[0m\u001b[0;34m\u001b[0m\u001b[0m\n\u001b[1;32m   1463\u001b[0m               \u001b[0mcallbacks\u001b[0m\u001b[0;34m.\u001b[0m\u001b[0mon_test_batch_begin\u001b[0m\u001b[0;34m(\u001b[0m\u001b[0mstep\u001b[0m\u001b[0;34m)\u001b[0m\u001b[0;34m\u001b[0m\u001b[0;34m\u001b[0m\u001b[0m\n\u001b[0;32m-> 1464\u001b[0;31m               \u001b[0mtmp_logs\u001b[0m \u001b[0;34m=\u001b[0m \u001b[0mself\u001b[0m\u001b[0;34m.\u001b[0m\u001b[0mtest_function\u001b[0m\u001b[0;34m(\u001b[0m\u001b[0miterator\u001b[0m\u001b[0;34m)\u001b[0m\u001b[0;34m\u001b[0m\u001b[0;34m\u001b[0m\u001b[0m\n\u001b[0m\u001b[1;32m   1465\u001b[0m               \u001b[0;32mif\u001b[0m \u001b[0mdata_handler\u001b[0m\u001b[0;34m.\u001b[0m\u001b[0mshould_sync\u001b[0m\u001b[0;34m:\u001b[0m\u001b[0;34m\u001b[0m\u001b[0;34m\u001b[0m\u001b[0m\n\u001b[1;32m   1466\u001b[0m                 \u001b[0mcontext\u001b[0m\u001b[0;34m.\u001b[0m\u001b[0masync_wait\u001b[0m\u001b[0;34m(\u001b[0m\u001b[0;34m)\u001b[0m\u001b[0;34m\u001b[0m\u001b[0;34m\u001b[0m\u001b[0m\n",
      "\u001b[0;32m/usr/local/lib/python3.9/site-packages/tensorflow/python/eager/def_function.py\u001b[0m in \u001b[0;36m__call__\u001b[0;34m(self, *args, **kwds)\u001b[0m\n\u001b[1;32m    887\u001b[0m \u001b[0;34m\u001b[0m\u001b[0m\n\u001b[1;32m    888\u001b[0m       \u001b[0;32mwith\u001b[0m \u001b[0mOptionalXlaContext\u001b[0m\u001b[0;34m(\u001b[0m\u001b[0mself\u001b[0m\u001b[0;34m.\u001b[0m\u001b[0m_jit_compile\u001b[0m\u001b[0;34m)\u001b[0m\u001b[0;34m:\u001b[0m\u001b[0;34m\u001b[0m\u001b[0;34m\u001b[0m\u001b[0m\n\u001b[0;32m--> 889\u001b[0;31m         \u001b[0mresult\u001b[0m \u001b[0;34m=\u001b[0m \u001b[0mself\u001b[0m\u001b[0;34m.\u001b[0m\u001b[0m_call\u001b[0m\u001b[0;34m(\u001b[0m\u001b[0;34m*\u001b[0m\u001b[0margs\u001b[0m\u001b[0;34m,\u001b[0m \u001b[0;34m**\u001b[0m\u001b[0mkwds\u001b[0m\u001b[0;34m)\u001b[0m\u001b[0;34m\u001b[0m\u001b[0;34m\u001b[0m\u001b[0m\n\u001b[0m\u001b[1;32m    890\u001b[0m \u001b[0;34m\u001b[0m\u001b[0m\n\u001b[1;32m    891\u001b[0m       \u001b[0mnew_tracing_count\u001b[0m \u001b[0;34m=\u001b[0m \u001b[0mself\u001b[0m\u001b[0;34m.\u001b[0m\u001b[0mexperimental_get_tracing_count\u001b[0m\u001b[0;34m(\u001b[0m\u001b[0;34m)\u001b[0m\u001b[0;34m\u001b[0m\u001b[0;34m\u001b[0m\u001b[0m\n",
      "\u001b[0;32m/usr/local/lib/python3.9/site-packages/tensorflow/python/eager/def_function.py\u001b[0m in \u001b[0;36m_call\u001b[0;34m(self, *args, **kwds)\u001b[0m\n\u001b[1;32m    922\u001b[0m       \u001b[0;31m# In this case we have not created variables on the first call. So we can\u001b[0m\u001b[0;34m\u001b[0m\u001b[0;34m\u001b[0m\u001b[0;34m\u001b[0m\u001b[0m\n\u001b[1;32m    923\u001b[0m       \u001b[0;31m# run the first trace but we should fail if variables are created.\u001b[0m\u001b[0;34m\u001b[0m\u001b[0;34m\u001b[0m\u001b[0;34m\u001b[0m\u001b[0m\n\u001b[0;32m--> 924\u001b[0;31m       \u001b[0mresults\u001b[0m \u001b[0;34m=\u001b[0m \u001b[0mself\u001b[0m\u001b[0;34m.\u001b[0m\u001b[0m_stateful_fn\u001b[0m\u001b[0;34m(\u001b[0m\u001b[0;34m*\u001b[0m\u001b[0margs\u001b[0m\u001b[0;34m,\u001b[0m \u001b[0;34m**\u001b[0m\u001b[0mkwds\u001b[0m\u001b[0;34m)\u001b[0m\u001b[0;34m\u001b[0m\u001b[0;34m\u001b[0m\u001b[0m\n\u001b[0m\u001b[1;32m    925\u001b[0m       \u001b[0;32mif\u001b[0m \u001b[0mself\u001b[0m\u001b[0;34m.\u001b[0m\u001b[0m_created_variables\u001b[0m\u001b[0;34m:\u001b[0m\u001b[0;34m\u001b[0m\u001b[0;34m\u001b[0m\u001b[0m\n\u001b[1;32m    926\u001b[0m         raise ValueError(\"Creating variables on a non-first call to a function\"\n",
      "\u001b[0;32m/usr/local/lib/python3.9/site-packages/tensorflow/python/eager/function.py\u001b[0m in \u001b[0;36m__call__\u001b[0;34m(self, *args, **kwargs)\u001b[0m\n\u001b[1;32m   3021\u001b[0m       (graph_function,\n\u001b[1;32m   3022\u001b[0m        filtered_flat_args) = self._maybe_define_function(args, kwargs)\n\u001b[0;32m-> 3023\u001b[0;31m     return graph_function._call_flat(\n\u001b[0m\u001b[1;32m   3024\u001b[0m         filtered_flat_args, captured_inputs=graph_function.captured_inputs)  # pylint: disable=protected-access\n\u001b[1;32m   3025\u001b[0m \u001b[0;34m\u001b[0m\u001b[0m\n",
      "\u001b[0;32m/usr/local/lib/python3.9/site-packages/tensorflow/python/eager/function.py\u001b[0m in \u001b[0;36m_call_flat\u001b[0;34m(self, args, captured_inputs, cancellation_manager)\u001b[0m\n\u001b[1;32m   1958\u001b[0m         and executing_eagerly):\n\u001b[1;32m   1959\u001b[0m       \u001b[0;31m# No tape is watching; skip to running the function.\u001b[0m\u001b[0;34m\u001b[0m\u001b[0;34m\u001b[0m\u001b[0;34m\u001b[0m\u001b[0m\n\u001b[0;32m-> 1960\u001b[0;31m       return self._build_call_outputs(self._inference_function.call(\n\u001b[0m\u001b[1;32m   1961\u001b[0m           ctx, args, cancellation_manager=cancellation_manager))\n\u001b[1;32m   1962\u001b[0m     forward_backward = self._select_forward_and_backward_functions(\n",
      "\u001b[0;32m/usr/local/lib/python3.9/site-packages/tensorflow/python/eager/function.py\u001b[0m in \u001b[0;36mcall\u001b[0;34m(self, ctx, args, cancellation_manager)\u001b[0m\n\u001b[1;32m    589\u001b[0m       \u001b[0;32mwith\u001b[0m \u001b[0m_InterpolateFunctionError\u001b[0m\u001b[0;34m(\u001b[0m\u001b[0mself\u001b[0m\u001b[0;34m)\u001b[0m\u001b[0;34m:\u001b[0m\u001b[0;34m\u001b[0m\u001b[0;34m\u001b[0m\u001b[0m\n\u001b[1;32m    590\u001b[0m         \u001b[0;32mif\u001b[0m \u001b[0mcancellation_manager\u001b[0m \u001b[0;32mis\u001b[0m \u001b[0;32mNone\u001b[0m\u001b[0;34m:\u001b[0m\u001b[0;34m\u001b[0m\u001b[0;34m\u001b[0m\u001b[0m\n\u001b[0;32m--> 591\u001b[0;31m           outputs = execute.execute(\n\u001b[0m\u001b[1;32m    592\u001b[0m               \u001b[0mstr\u001b[0m\u001b[0;34m(\u001b[0m\u001b[0mself\u001b[0m\u001b[0;34m.\u001b[0m\u001b[0msignature\u001b[0m\u001b[0;34m.\u001b[0m\u001b[0mname\u001b[0m\u001b[0;34m)\u001b[0m\u001b[0;34m,\u001b[0m\u001b[0;34m\u001b[0m\u001b[0;34m\u001b[0m\u001b[0m\n\u001b[1;32m    593\u001b[0m               \u001b[0mnum_outputs\u001b[0m\u001b[0;34m=\u001b[0m\u001b[0mself\u001b[0m\u001b[0;34m.\u001b[0m\u001b[0m_num_outputs\u001b[0m\u001b[0;34m,\u001b[0m\u001b[0;34m\u001b[0m\u001b[0;34m\u001b[0m\u001b[0m\n",
      "\u001b[0;32m/usr/local/lib/python3.9/site-packages/tensorflow/python/eager/execute.py\u001b[0m in \u001b[0;36mquick_execute\u001b[0;34m(op_name, num_outputs, inputs, attrs, ctx, name)\u001b[0m\n\u001b[1;32m     57\u001b[0m   \u001b[0;32mtry\u001b[0m\u001b[0;34m:\u001b[0m\u001b[0;34m\u001b[0m\u001b[0;34m\u001b[0m\u001b[0m\n\u001b[1;32m     58\u001b[0m     \u001b[0mctx\u001b[0m\u001b[0;34m.\u001b[0m\u001b[0mensure_initialized\u001b[0m\u001b[0;34m(\u001b[0m\u001b[0;34m)\u001b[0m\u001b[0;34m\u001b[0m\u001b[0;34m\u001b[0m\u001b[0m\n\u001b[0;32m---> 59\u001b[0;31m     tensors = pywrap_tfe.TFE_Py_Execute(ctx._handle, device_name, op_name,\n\u001b[0m\u001b[1;32m     60\u001b[0m                                         inputs, attrs, num_outputs)\n\u001b[1;32m     61\u001b[0m   \u001b[0;32mexcept\u001b[0m \u001b[0mcore\u001b[0m\u001b[0;34m.\u001b[0m\u001b[0m_NotOkStatusException\u001b[0m \u001b[0;32mas\u001b[0m \u001b[0me\u001b[0m\u001b[0;34m:\u001b[0m\u001b[0;34m\u001b[0m\u001b[0;34m\u001b[0m\u001b[0m\n",
      "\u001b[0;31mKeyboardInterrupt\u001b[0m: "
     ]
    }
   ],
   "source": [
    "score, acc = model.evaluate_generator(test_generator, steps=STEP_SIZE_TEST)\n",
    "print('Test score:', score)\n",
    "print('Test accuracy:', acc)"
   ]
  },
  {
   "cell_type": "code",
   "execution_count": null,
   "metadata": {},
   "outputs": [],
   "source": []
  }
 ],
 "metadata": {
  "kernelspec": {
   "display_name": "Python 3",
   "language": "python",
   "name": "python3"
  },
  "language_info": {
   "codemirror_mode": {
    "name": "ipython",
    "version": 3
   },
   "file_extension": ".py",
   "mimetype": "text/x-python",
   "name": "python",
   "nbconvert_exporter": "python",
   "pygments_lexer": "ipython3",
   "version": "3.9.1"
  }
 },
 "nbformat": 4,
 "nbformat_minor": 2
}
