{
 "cells": [
  {
   "cell_type": "code",
   "execution_count": 3,
   "metadata": {},
   "outputs": [],
   "source": [
    "### import libraries\n",
    "import keras\n",
    "from keras_preprocessing.image import ImageDataGenerator\n",
    "from keras.layers import Dense, Activation, Flatten, Dropout, BatchNormalization\n",
    "from keras.layers import Conv2D, MaxPooling2D\n",
    "from keras import regularizers, optimizers\n",
    "from keras.models import Sequential\n",
    "\n",
    "from keras.applications.densenet import DenseNet121\n",
    "from keras.preprocessing import image\n",
    "from keras.models import Model\n",
    "from keras.layers import Dense, GlobalAveragePooling2D\n",
    "from keras import backend as K\n",
    "from keras.models import load_model\n",
    "from keras.utils.vis_utils import plot_model\n",
    "\n",
    "import pandas as pd\n",
    "import numpy as np\n",
    "from pathlib import Path\n",
    "\n",
    "import matplotlib\n",
    "# matplotlib.use(\"Agg\") # set the matplotlib backend so figures can be saved in the background\n",
    " \n",
    "from sklearn.metrics import classification_report\n",
    "import matplotlib.pyplot as plt\n",
    "\n",
    "import datetime\n",
    "import tensorflow as tf\n",
    "\n",
    "import json"
   ]
  },
  {
   "cell_type": "code",
   "execution_count": 4,
   "metadata": {},
   "outputs": [],
   "source": [
    "def read_config(p):\n",
    "    '''read from configuration file'''\n",
    "    with open(p) as f:\n",
    "        d = json.load(f)\n",
    "    \n",
    "    #fix trailing slash\n",
    "    if(d['df'][-1] != '/'):\n",
    "        d['df'] += '/'\n",
    "    \n",
    "    print(\"path: \", d['df'])\n",
    "    print(\"train labels\", d['train_labels'])\n",
    "    print(\"test_labels\", d['test_labels'])\n",
    "    print(\"features\", d['features']),\n",
    "    print(\"processing features\", d['process_features'])\n",
    "    return d['df'], d['train_labels'], d['test_labels'], d['features'], d['process_features']"
   ]
  },
  {
   "cell_type": "code",
   "execution_count": 5,
   "metadata": {},
   "outputs": [
    {
     "name": "stdout",
     "output_type": "stream",
     "text": [
      "path:  CheXpert-v1.0-small/\n",
      "train labels train.csv\n",
      "test_labels valid.csv\n"
     ]
    },
    {
     "ename": "KeyError",
     "evalue": "'features'",
     "output_type": "error",
     "traceback": [
      "\u001b[0;31m---------------------------------------------------------------------------\u001b[0m",
      "\u001b[0;31mKeyError\u001b[0m                                  Traceback (most recent call last)",
      "\u001b[0;32m<ipython-input-5-7e00cf184fa0>\u001b[0m in \u001b[0;36m<module>\u001b[0;34m\u001b[0m\n\u001b[0;32m----> 1\u001b[0;31m \u001b[0;34m[\u001b[0m\u001b[0mdf_path\u001b[0m\u001b[0;34m,\u001b[0m \u001b[0mtrain_labels\u001b[0m\u001b[0;34m,\u001b[0m \u001b[0mtest_labels\u001b[0m\u001b[0;34m,\u001b[0m \u001b[0mfeatures\u001b[0m\u001b[0;34m,\u001b[0m \u001b[0mprocessing_features\u001b[0m\u001b[0;34m]\u001b[0m \u001b[0;34m=\u001b[0m \u001b[0mread_config\u001b[0m\u001b[0;34m(\u001b[0m\u001b[0;34m'config.json'\u001b[0m\u001b[0;34m)\u001b[0m\u001b[0;34m\u001b[0m\u001b[0;34m\u001b[0m\u001b[0m\n\u001b[0m\u001b[1;32m      2\u001b[0m \u001b[0mx_col\u001b[0m \u001b[0;34m=\u001b[0m \u001b[0mprocessing_features\u001b[0m\u001b[0;34m[\u001b[0m\u001b[0;34m'x_col'\u001b[0m\u001b[0;34m]\u001b[0m\u001b[0;34m\u001b[0m\u001b[0;34m\u001b[0m\u001b[0m\n\u001b[1;32m      3\u001b[0m \u001b[0my_col\u001b[0m \u001b[0;34m=\u001b[0m \u001b[0mprocessing_features\u001b[0m\u001b[0;34m[\u001b[0m\u001b[0;34m'y_col'\u001b[0m\u001b[0;34m]\u001b[0m\u001b[0;34m\u001b[0m\u001b[0;34m\u001b[0m\u001b[0m\n\u001b[1;32m      4\u001b[0m \u001b[0mnumber_of_features\u001b[0m \u001b[0;34m=\u001b[0m \u001b[0mlen\u001b[0m\u001b[0;34m(\u001b[0m\u001b[0my_col\u001b[0m\u001b[0;34m)\u001b[0m\u001b[0;34m\u001b[0m\u001b[0;34m\u001b[0m\u001b[0m\n\u001b[1;32m      5\u001b[0m \u001b[0;34m\u001b[0m\u001b[0m\n",
      "\u001b[0;32m<ipython-input-4-caff3c2a5306>\u001b[0m in \u001b[0;36mread_config\u001b[0;34m(p)\u001b[0m\n\u001b[1;32m     11\u001b[0m     \u001b[0mprint\u001b[0m\u001b[0;34m(\u001b[0m\u001b[0;34m\"train labels\"\u001b[0m\u001b[0;34m,\u001b[0m \u001b[0md\u001b[0m\u001b[0;34m[\u001b[0m\u001b[0;34m'train_labels'\u001b[0m\u001b[0;34m]\u001b[0m\u001b[0;34m)\u001b[0m\u001b[0;34m\u001b[0m\u001b[0;34m\u001b[0m\u001b[0m\n\u001b[1;32m     12\u001b[0m     \u001b[0mprint\u001b[0m\u001b[0;34m(\u001b[0m\u001b[0;34m\"test_labels\"\u001b[0m\u001b[0;34m,\u001b[0m \u001b[0md\u001b[0m\u001b[0;34m[\u001b[0m\u001b[0;34m'test_labels'\u001b[0m\u001b[0;34m]\u001b[0m\u001b[0;34m)\u001b[0m\u001b[0;34m\u001b[0m\u001b[0;34m\u001b[0m\u001b[0m\n\u001b[0;32m---> 13\u001b[0;31m     \u001b[0mprint\u001b[0m\u001b[0;34m(\u001b[0m\u001b[0;34m\"features\"\u001b[0m\u001b[0;34m,\u001b[0m \u001b[0md\u001b[0m\u001b[0;34m[\u001b[0m\u001b[0;34m'features'\u001b[0m\u001b[0;34m]\u001b[0m\u001b[0;34m)\u001b[0m\u001b[0;34m,\u001b[0m\u001b[0;34m\u001b[0m\u001b[0;34m\u001b[0m\u001b[0m\n\u001b[0m\u001b[1;32m     14\u001b[0m     \u001b[0mprint\u001b[0m\u001b[0;34m(\u001b[0m\u001b[0;34m\"processing features\"\u001b[0m\u001b[0;34m,\u001b[0m \u001b[0md\u001b[0m\u001b[0;34m[\u001b[0m\u001b[0;34m'process_features'\u001b[0m\u001b[0;34m]\u001b[0m\u001b[0;34m)\u001b[0m\u001b[0;34m\u001b[0m\u001b[0;34m\u001b[0m\u001b[0m\n\u001b[1;32m     15\u001b[0m     \u001b[0;32mreturn\u001b[0m \u001b[0md\u001b[0m\u001b[0;34m[\u001b[0m\u001b[0;34m'df'\u001b[0m\u001b[0;34m]\u001b[0m\u001b[0;34m,\u001b[0m \u001b[0md\u001b[0m\u001b[0;34m[\u001b[0m\u001b[0;34m'train_labels'\u001b[0m\u001b[0;34m]\u001b[0m\u001b[0;34m,\u001b[0m \u001b[0md\u001b[0m\u001b[0;34m[\u001b[0m\u001b[0;34m'test_labels'\u001b[0m\u001b[0;34m]\u001b[0m\u001b[0;34m,\u001b[0m \u001b[0md\u001b[0m\u001b[0;34m[\u001b[0m\u001b[0;34m'features'\u001b[0m\u001b[0;34m]\u001b[0m\u001b[0;34m,\u001b[0m \u001b[0md\u001b[0m\u001b[0;34m[\u001b[0m\u001b[0;34m'process_features'\u001b[0m\u001b[0;34m]\u001b[0m\u001b[0;34m\u001b[0m\u001b[0;34m\u001b[0m\u001b[0m\n",
      "\u001b[0;31mKeyError\u001b[0m: 'features'"
     ]
    }
   ],
   "source": [
    "[df_path, train_labels, test_labels, features, processing_features] = read_config('config.json')\n",
    "x_col = processing_features['x_col']\n",
    "y_col = processing_features['y_col']\n",
    "number_of_features = len(y_col)\n",
    "\n",
    "# import train data info from valid.csv\n",
    "dtrain=pd.read_csv(df_path + train_labels, nrows=100)\n",
    "dtrain = dtrain.fillna(0)\n",
    "\n",
    "# import valid data info from valid.csv\n",
    "dnew=pd.read_csv(df_path + test_labels)\n",
    "dnew = dnew.fillna(0)\n",
    "\n",
    "#add dnew to dtrain to re-split since valid data in data set is very small\n",
    "dtrain = dtrain.append(dnew)\n",
    "\n",
    "#pre-process data: remove Lateral images\n",
    "dtrain = dtrain[~dtrain[dtrain.columns[3]].str.contains(\"Lateral\")]\n",
    "\n",
    "#pre-process data: drop selected features - only images as inputs\n",
    "#drop all features that are not included in processing_features\n",
    "to_drop = list(set(features) - set(y_col))\n",
    "to_drop.remove(x_col)\n",
    "print('dropping columns....\\n', to_drop)\n",
    "dtrain = dtrain.drop(to_drop, axis=1)\n",
    "\n",
    "#uncertain examples make them positive\n",
    "dtrain = dtrain.replace(-1,1)\n",
    "\n",
    "dtrain.drop(dtrain.loc[(dtrain['Pneumonia'] == 0) & (dtrain['No Finding'] == 0) & (dtrain['Lung Lesion'] == 0)].index, inplace=True)\n",
    "\n",
    "\n",
    "# print(dtrain.shape)\n",
    "# dtrain.head()\n"
   ]
  },
  {
   "cell_type": "code",
   "execution_count": 11,
   "metadata": {},
   "outputs": [
    {
     "data": {
      "text/plain": [
       "['No Finding', 'Pneumonia', 'Lung Lesion']"
      ]
     },
     "execution_count": 11,
     "metadata": {},
     "output_type": "execute_result"
    }
   ],
   "source": [
    "im = plt.imread('pic.jpg')\n",
    "# show the image\n",
    "plt.imshow(im)\n",
    "plt.show()"
   ]
  },
  {
   "cell_type": "code",
   "execution_count": 25,
   "metadata": {},
   "outputs": [
    {
     "data": {
      "image/png": "[encoded data removed]",
      "text/plain": [
       "<Figure size 432x288 with 1 Axes>"
      ]
     },
     "metadata": {
      "needs_background": "light"
     },
     "output_type": "display_data"
    },
    {
     "data": {
      "text/plain": [
       "<Figure size 432x288 with 0 Axes>"
      ]
     },
     "metadata": {},
     "output_type": "display_data"
    }
   ],
   "source": [
    "%matplotlib inline\n",
    "features_size=[]\n",
    "features_data =[]\n",
    "features_name=[]\n",
    "#print(list(dtrain.columns[1:15]))\n",
    "for feature in list(dtrain.columns[1:4]):\n",
    "    data_feature = dtrain.loc[dtrain[feature] == 1]\n",
    "    features_size.append(data_feature.shape[0])\n",
    "    features_data.append(data_feature)\n",
    "    features_name.append(feature)\n",
    "\n",
    "objects = list(dtrain.columns[1:4])\n",
    "y_pos = np.arange(len(objects))\n",
    "performance = np.array(features_size)/dtrain.shape[0]*100\n",
    "# print(features_data)\n",
    "plt.barh(y_pos, performance, align='center', alpha=0.5)\n",
    "plt.yticks(y_pos, objects)\n",
    "plt.xlabel('% of positive label per observation')\n",
    "plt.title('Data Distribution')\n",
    "plt.show()\n",
    "plt.savefig('DataDistribute.png', bbox_inches='tight')"
   ]
  },
  {
   "cell_type": "code",
   "execution_count": 28,
   "metadata": {},
   "outputs": [
    {
     "name": "stdout",
     "output_type": "stream",
     "text": [
      "(35578, 4)\n",
      "(4448, 4)\n",
      "(4447, 4)\n"
     ]
    }
   ],
   "source": [
    "### split data into train/valid/test\n",
    "dtrain = dtrain.sample(frac=1)\n",
    "dvalid_size = round(0.1*dtrain.shape[0])\n",
    "dtest_size = dvalid_size\n",
    "\n",
    "dtr = dtrain[0:dtrain.shape[0]-dvalid_size-dtest_size+1]\n",
    "dv = dtrain[dtrain.shape[0]-dvalid_size-dtest_size:dtrain.shape[0]-dvalid_size+1]\n",
    "dte = dtrain[dtrain.shape[0]-dvalid_size:dtrain.shape[0]+1]\n",
    "\n",
    "print(dtr.shape)\n",
    "print(dv.shape)\n",
    "print(dte.shape)"
   ]
  },
  {
   "cell_type": "code",
   "execution_count": 29,
   "metadata": {},
   "outputs": [
    {
     "name": "stdout",
     "output_type": "stream",
     "text": [
      "Found 35578 validated image filenames.\n",
      "Found 4448 validated image filenames.\n",
      "Found 4447 validated image filenames.\n"
     ]
    }
   ],
   "source": [
    "### data generation for Keras \n",
    "train_datagen=ImageDataGenerator(rescale=1./255)\n",
    "test_datagen=ImageDataGenerator(rescale=1./255.)\n",
    "valid_datagen=ImageDataGenerator(rescale=1./255.)\n",
    "\n",
    "# target_size = (224,224)\n",
    "#target_size = (299,299)\n",
    "target_size = (75,75)\n",
    "train_generator=train_datagen.flow_from_dataframe(dataframe=dtr, directory=None , \n",
    "                                                  x_col=\"Path\", y_col=list(dtr.columns[1:3]), \n",
    "                                                  class_mode=\"other\", \n",
    "                                                  target_size=target_size, \n",
    "                                                  batch_size=32)\n",
    "valid_generator=valid_datagen.flow_from_dataframe(dataframe=dv, directory=None , \n",
    "                                                  x_col=\"Path\", y_col=list(dv.columns[1:3]), \n",
    "                                                  class_mode=\"other\", \n",
    "                                                  target_size=target_size, \n",
    "                                                  batch_size=32)\n",
    "test_generator=test_datagen.flow_from_dataframe(dataframe=dte, directory=None , \n",
    "                                                x_col=\"Path\", y_col=list(dte.columns[1:3]), \n",
    "                                                class_mode=\"other\", \n",
    "                                                target_size=target_size, \n",
    "                                                shuffle = False, batch_size=1)"
   ]
  },
  {
   "cell_type": "code",
   "execution_count": 30,
   "metadata": {},
   "outputs": [],
   "source": [
    "### model architecture design/selection\n",
    "# create the base pre-trained model\n",
    "base_model = DenseNet121(include_top = False, weights='imagenet')\n",
    "\n",
    "# add a global spatial average pooling layer\n",
    "x = base_model.output\n",
    "x = GlobalAveragePooling2D()(x)\n",
    "# let's add a fully-connected layer\n",
    "x = Dense(1024, activation='relu')(x)\n",
    "# and a logistic layer\n",
    "predictions = Dense(2, activation='sigmoid')(x)\n",
    "\n",
    "# this is the model we will train\n",
    "model = Model(inputs=base_model.input, outputs=predictions)\n",
    "\n",
    "# first: train only the top layers (which were randomly initialized)\n",
    "# i.e. freeze all convolutional DenseNet layers\n",
    "for layer in base_model.layers:\n",
    "    layer.trainable = False\n",
    "\n",
    "# compile the model (should be done *after* setting layers to non-trainable)\n",
    "\n",
    "#model training\n",
    "adam = keras.optimizers.Adam(learning_rate=0.0001, beta_1=0.9, beta_2=0.999, epsilon=None, decay=0.0, amsgrad=False)\n",
    "model.compile(optimizer= adam, loss='binary_crossentropy', metrics=['accuracy'])\n",
    "\n",
    "#plot_model(model, to_file='model_plot.png', show_shapes=True, show_layer_names=True)\n",
    "#print(model.summary())"
   ]
  },
  {
   "cell_type": "code",
   "execution_count": 31,
   "metadata": {},
   "outputs": [
    {
     "name": "stdout",
     "output_type": "stream",
     "text": [
      "Epoch 1/3\n",
      "1111/1111 [==============================] - 829s 710ms/step - loss: 0.5635 - accuracy: 0.6409 - val_loss: 0.4950 - val_accuracy: 0.6178\n",
      "Epoch 2/3\n",
      "1111/1111 [==============================] - 602s 542ms/step - loss: 0.4928 - accuracy: 0.6371 - val_loss: 0.4939 - val_accuracy: 0.7003\n",
      "Epoch 3/3\n",
      "1111/1111 [==============================] - 545s 490ms/step - loss: 0.4801 - accuracy: 0.6510 - val_loss: 0.4988 - val_accuracy: 0.6012\n"
     ]
    }
   ],
   "source": [
    "\n",
    "### fit model \n",
    "num_epochs = 3\n",
    "STEP_SIZE_TRAIN=train_generator.n//train_generator.batch_size\n",
    "STEP_SIZE_VALID=valid_generator.n//valid_generator.batch_size\n",
    "STEP_SIZE_TEST=test_generator.n//test_generator.batch_size\n",
    "\n",
    "\n",
    "#Tensorboard\n",
    "log_dir = \"logs/fit/train\"# + datetime.datetime.now().strftime(\"%Y%m%d-%H%M%S\")\n",
    "tensorboard_callback = tf.keras.callbacks.TensorBoard(log_dir=log_dir, histogram_freq=1)\n",
    "\n",
    "model_H = model.fit(train_generator,\n",
    "                    steps_per_epoch=STEP_SIZE_TRAIN,\n",
    "                    validation_data=valid_generator,\n",
    "                    validation_steps=STEP_SIZE_VALID,\n",
    "                    epochs=num_epochs,\n",
    "                    callbacks=[tensorboard_callback])\n",
    "# save model\n",
    "model.save(\"model_DenseNet121_TF_Binary.h5\")"
   ]
  },
  {
   "cell_type": "code",
   "execution_count": null,
   "metadata": {},
   "outputs": [],
   "source": [
    "# load my trained model \n",
    "model_F = load_model('model_DenseNet121_TF_Binary.h5')\n",
    "STEP_SIZE_TRAIN=train_generator.n//train_generator.batch_size\n",
    "STEP_SIZE_VALID=valid_generator.n//valid_generator.batch_size\n",
    "STEP_SIZE_TEST=test_generator.n//test_generator.batch_size"
   ]
  },
  {
   "cell_type": "code",
   "execution_count": null,
   "metadata": {},
   "outputs": [],
   "source": [
    "### prediction and performance assessment\n",
    "test_generator.reset()\n",
    "pred=model.predict_generator(test_generator, steps=STEP_SIZE_TEST)\n",
    "pred_bool = (pred >= 0.5)\n",
    "\n",
    "y_pred = np.array(pred_bool,dtype =int)\n",
    "\n",
    "dtest = dte.to_numpy()\n",
    "y_true = np.array(dtest[:,1:4],dtype=int)\n",
    "\n",
    "print(classification_report(y_true, y_pred,target_names=list(dtr.columns[1:4])))"
   ]
  },
  {
   "cell_type": "code",
   "execution_count": null,
   "metadata": {},
   "outputs": [],
   "source": [
    "score, acc = model.evaluate_generator(test_generator, steps=STEP_SIZE_TEST)\n",
    "print('Test score:', score)\n",
    "print('Test accuracy:', acc)"
   ]
  },
  {
   "cell_type": "code",
   "execution_count": null,
   "metadata": {},
   "outputs": [],
   "source": []
  }
 ],
 "metadata": {
  "kernelspec": {
   "display_name": "Python 3",
   "language": "python",
   "name": "python3"
  },
  "language_info": {
   "codemirror_mode": {
    "name": "ipython",
    "version": 3
   },
   "file_extension": ".py",
   "mimetype": "text/x-python",
   "name": "python",
   "nbconvert_exporter": "python",
   "pygments_lexer": "ipython3",
   "version": "3.9.1"
  }
 },
 "nbformat": 4,
 "nbformat_minor": 2
}
